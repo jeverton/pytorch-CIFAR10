{
  "nbformat": 4,
  "nbformat_minor": 0,
  "metadata": {
    "colab": {
      "name": "AML_HW10.ipynb",
      "version": "0.3.2",
      "provenance": [],
      "collapsed_sections": [],
      "include_colab_link": true
    },
    "language_info": {
      "codemirror_mode": {
        "name": "ipython",
        "version": 3
      },
      "file_extension": ".py",
      "mimetype": "text/x-python",
      "name": "python",
      "nbconvert_exporter": "python",
      "pygments_lexer": "ipython3",
      "version": "3.6.7"
    },
    "kernelspec": {
      "display_name": "Python 3",
      "language": "python",
      "name": "python3"
    },
    "accelerator": "GPU"
  },
  "cells": [
    {
      "cell_type": "markdown",
      "metadata": {
        "id": "view-in-github",
        "colab_type": "text"
      },
      "source": [
        "<a href=\"https://colab.research.google.com/github/jeverton/aml-hw10/blob/master/AML_HW10.ipynb\" target=\"_parent\"><img src=\"https://colab.research.google.com/assets/colab-badge.svg\" alt=\"Open In Colab\"/></a>"
      ]
    },
    {
      "metadata": {
        "colab_type": "text",
        "id": "vUTgGUi4JEft"
      },
      "cell_type": "markdown",
      "source": [
        "# Homework 10 - CIFAR10 Image Classification with PyTorch"
      ]
    },
    {
      "metadata": {
        "colab_type": "text",
        "id": "T5Kx8gJBJEW_"
      },
      "cell_type": "markdown",
      "source": [
        "## About"
      ]
    },
    {
      "metadata": {
        "colab_type": "text",
        "id": "aRAalfd1GITX"
      },
      "cell_type": "markdown",
      "source": [
        "The goal of the homework is to train a convolutional neural network on the standard CIFAR10 image classfication dataset.\n",
        "\n",
        "When solving machine learning tasks using neural networks, one typically starts with a simple network architecture and then improves the network by adding new layers, retraining, adjusting parameters, retraining, etc.  We attempt to illustrate this process below with several architecture improvements.\n"
      ]
    },
    {
      "metadata": {
        "colab_type": "text",
        "id": "OCl5gakxJes-"
      },
      "cell_type": "markdown",
      "source": [
        "## Dev Environment\n",
        "### Working on Google Colab\n",
        "You may choose to work locally or on Google Colaboratory. You have access to free compute through this service.   Colab is recommended since it will be setup correctly and will have access to GPU resources.\n",
        "1. Visit https://colab.research.google.com/drive \n",
        "2. Navigate to the **`Upload`** tab, and upload your `HW10.ipynb`\n",
        "3. Now on the top right corner, under the `Comment` and `Share` options, you should see a `Connect` option. Once you are connected, you will have access to a VM with 12GB RAM, 50 GB disk space and a single GPU. The dropdown menu will allow you to connect to a local runtime as well.\n",
        "\n",
        "**Notes:** \n",
        "* **If you do not have a working setup for Python 3, this is your best bet. It will also save you from heavy installations like `tensorflow` if you don't want to deal with those.**\n",
        "* ***There is a downside*. You can only use this instance for a single 12-hour stretch, after which your data will be deleted, and you would have redownload all your datasets, any libraries not already on the VM, and regenerate your logs**.\n",
        "\n",
        "\n",
        "### Installing PyTorch and Dependencies\n",
        "\n",
        "The instructions for installing and setting up PyTorch can be found at https://pytorch.org/get-started/locally/. Make sure you follow the instructions for your machine. For any of the remaining libraries used in this assignment:\n",
        "* We have provided a `hw8_requirements.txt` file on the homework web page. \n",
        "* Download this file, and in the same directory you can run `pip3 install -r hw8_requirements.txt`\n",
        "​\n",
        "Check that PyTorch installed correctly by running the following:"
      ]
    },
    {
      "metadata": {
        "colab_type": "code",
        "id": "IaJ6BLrAJeCU",
        "colab": {
          "base_uri": "https://localhost:8080/",
          "height": 102
        },
        "outputId": "3549ed40-cc90-4ec7-a205-13fabc9bda09"
      },
      "cell_type": "code",
      "source": [
        "import torch\n",
        "torch.rand(5, 3)"
      ],
      "execution_count": 8,
      "outputs": [
        {
          "output_type": "execute_result",
          "data": {
            "text/plain": [
              "tensor([[0.7213, 0.0510, 0.7570],\n",
              "        [0.4937, 0.9641, 0.8851],\n",
              "        [0.8077, 0.0987, 0.2151],\n",
              "        [0.2789, 0.0267, 0.0494],\n",
              "        [0.9376, 0.5868, 0.4877]])"
            ]
          },
          "metadata": {
            "tags": []
          },
          "execution_count": 8
        }
      ]
    },
    {
      "metadata": {
        "colab_type": "text",
        "id": "nEmmCk1IJiGn"
      },
      "cell_type": "markdown",
      "source": [
        "## Part 0 Imports and Basic Setup  (5 Points)"
      ]
    },
    {
      "metadata": {
        "colab_type": "text",
        "id": "Y3mTddKuXPBU"
      },
      "cell_type": "markdown",
      "source": [
        "First, import the required libraries as follows. The libraries we will use will be the same as those in HW8. "
      ]
    },
    {
      "metadata": {
        "colab_type": "code",
        "id": "UwtDsq3VbrNY",
        "colab": {}
      },
      "cell_type": "code",
      "source": [
        "import numpy as np\n",
        "import torch\n",
        "from torch import nn\n",
        "from torch import optim\n",
        "\n",
        "import matplotlib.pyplot as plt"
      ],
      "execution_count": 0,
      "outputs": []
    },
    {
      "metadata": {
        "colab_type": "text",
        "id": "QWKp_UGlWTyR"
      },
      "cell_type": "markdown",
      "source": [
        "**GPU Support**\n",
        "\n",
        "Training of large network can take a long time. PyTorch supports GPU with just a small amount of effort.\n",
        "\n",
        "When creating our networks, we will call \n",
        "`net.to(device)` to tell the network to train on the GPU, if one is available.  Note, if the network utilizes the GPU, it is important that any tensors we use with it (such as the data) also reside on the CPU.  Thus, a call like `images = images.to(device)` is necessary with any data we want to use with the GPU.\n",
        "\n",
        "Note: If you can't get access to a GPU, don't worry to much.  Since we use very small networks, the difference between CPU and GPU isn't large and in some cases GPU will actually be slower."
      ]
    },
    {
      "metadata": {
        "colab_type": "code",
        "id": "gbGGmnIXYca9",
        "colab": {
          "base_uri": "https://localhost:8080/",
          "height": 34
        },
        "outputId": "22c6b25a-7329-42d8-82f8-7c86e4ef1ed6"
      },
      "cell_type": "code",
      "source": [
        "import torch.cuda as cuda\n",
        "\n",
        "# Use a GPU, i.e. cuda:0 device if it available.\n",
        "device = torch.device(\"cuda:0\" if cuda.is_available() else \"cpu\")\n",
        "print(device)"
      ],
      "execution_count": 10,
      "outputs": [
        {
          "output_type": "stream",
          "text": [
            "cuda:0\n"
          ],
          "name": "stdout"
        }
      ]
    },
    {
      "metadata": {
        "id": "_lzWqTRlo0X0",
        "colab_type": "text"
      },
      "cell_type": "markdown",
      "source": [
        "### Training Code"
      ]
    },
    {
      "metadata": {
        "id": "gXdwN02QVoXH",
        "colab_type": "code",
        "colab": {
          "base_uri": "https://localhost:8080/",
          "height": 102
        },
        "outputId": "91c54430-6520-4fdb-b7c8-8762e8c75d26"
      },
      "cell_type": "code",
      "source": [
        "awesome_metrics['loss']['train']"
      ],
      "execution_count": 25,
      "outputs": [
        {
          "output_type": "execute_result",
          "data": {
            "text/plain": [
              "array([[0.00000000e+00, 4.56568050e-03],\n",
              "       [0.00000000e+00, 3.20425427e-03],\n",
              "       [1.00000000e+03, 8.14484029e-01],\n",
              "       [1.00000000e+03, 2.68014961e-03],\n",
              "       [2.00000000e+03, 5.72293623e-01]])"
            ]
          },
          "metadata": {
            "tags": []
          },
          "execution_count": 25
        }
      ]
    },
    {
      "metadata": {
        "cellView": "form",
        "colab_type": "code",
        "id": "_DZm8ammPCbL",
        "colab": {}
      },
      "cell_type": "code",
      "source": [
        "import time\n",
        "\n",
        "class Flatten(nn.Module):\n",
        "  \"\"\"NN Module that flattens the incoming tensor.\"\"\"\n",
        "  def forward(self, input):\n",
        "    return input.view(input.size(0), -1)\n",
        "  \n",
        "def train(model, train_loader, test_loader, loss_func, opt, num_epochs=10, log_dict=None, next_training_step=0, epoch_offset=0):\n",
        "  if log_dict == None:\n",
        "    all_training_loss = np.zeros((0,2))\n",
        "    all_training_acc = np.zeros((0,2))\n",
        "    all_test_loss = np.zeros((0,2))\n",
        "    all_test_acc = np.zeros((0,2))\n",
        "    training_step = 0\n",
        "  else:\n",
        "    all_training_loss = log_dict['loss']['train']\n",
        "    all_training_acc = log_dict['accuracy']['train']\n",
        "    all_test_loss = log_dict['loss']['test']\n",
        "    all_test_acc = log_dict['accuracy']['test']\n",
        "    training_step = next_training_step\n",
        "    \n",
        "  training_loss, training_acc = 2.0, 0.0\n",
        "  print_every = 1000\n",
        "\n",
        "  print('First training step: %d' % training_step)\n",
        "\n",
        "  start = time.clock()\n",
        "  step_count = 0\n",
        "  \n",
        "  for i in range(num_epochs):\n",
        "    epoch_start = time.clock() \n",
        "   \n",
        "    model.train()\n",
        "    for images, labels in train_loader:\n",
        "      images, labels = images.to(device), labels.to(device)\n",
        "      opt.zero_grad()\n",
        "\n",
        "      preds = model(images)\n",
        "      loss = loss_func(preds, labels)\n",
        "      loss.backward()\n",
        "      opt.step()\n",
        "      \n",
        "      training_loss += loss.item()\n",
        "      training_acc += (torch.argmax(preds, dim=1)==labels).float().mean()\n",
        "      step_count += 1\n",
        "      \n",
        "      if training_step % print_every == 0:\n",
        "        training_loss /= step_count\n",
        "        training_acc /= step_count\n",
        "        step_count = 0\n",
        "        \n",
        "        all_training_loss = np.concatenate((all_training_loss, [[training_step, training_loss]]))\n",
        "        all_training_acc = np.concatenate((all_training_acc, [[training_step, training_acc]]))\n",
        "        \n",
        "        print('  Epoch %d @ step %d: Train Loss: %3f, Train Accuracy: %3f' % (\n",
        "            i + epoch_offset, training_step, training_loss, training_acc))\n",
        "        training_loss, training_acc = 0.0, 0.0\n",
        "        \n",
        "      training_step+=1\n",
        "\n",
        "    model.eval()\n",
        "    with torch.no_grad():\n",
        "      validation_loss, validation_acc = 0.0, 0.0\n",
        "      count = 0\n",
        "      for images, labels in test_loader:\n",
        "        images, labels = images.to(device), labels.to(device)\n",
        "        output = model(images)\n",
        "        validation_loss+=loss_func(output,labels)\n",
        "        validation_acc+=(torch.argmax(output, dim=1) == labels).float().mean()\n",
        "        count += 1\n",
        "      validation_loss/=count\n",
        "      validation_acc/=count\n",
        "      \n",
        "      all_test_loss = np.concatenate((all_test_loss, [[training_step, validation_loss]]))\n",
        "      all_test_acc = np.concatenate((all_test_acc, [[training_step, validation_acc]]))\n",
        "      \n",
        "      epoch_time = time.clock() - epoch_start\n",
        "      \n",
        "      print('Epoch %d Test Loss: %3f, Test Accuracy: %3f, time: %.1fs' % (\n",
        "          i + epoch_offset, validation_loss, validation_acc, epoch_time))\n",
        "      \n",
        "  total_time = time.clock() - start\n",
        "  print('Final Test Loss: %3f, Test Accuracy: %3f, Total time: %.1fs' % (\n",
        "      validation_loss, validation_acc, total_time))\n",
        "  print('Last training step: %d\\n' % training_step)\n",
        "  return {'loss': { 'train': all_training_loss, 'test': all_test_loss },\n",
        "          'accuracy': { 'train': all_training_acc, 'test': all_test_acc }}, \\\n",
        "          training_step\n",
        "\n",
        "def plot_graphs(model_name, metrics):\n",
        "  for metric, values in metrics.items():\n",
        "    for name, v in values.items():\n",
        "      plt.plot(v[:,0], v[:,1], label=name)\n",
        "    plt.title(f'{metric} for {model_name}')\n",
        "    plt.legend()\n",
        "    plt.xlabel(\"Training Steps\")\n",
        "    plt.ylabel(metric)\n",
        "    plt.show()\n",
        "    "
      ],
      "execution_count": 0,
      "outputs": []
    },
    {
      "metadata": {
        "colab_type": "text",
        "id": "1RupXQbCaXb3"
      },
      "cell_type": "markdown",
      "source": [
        "Load the** CIFA-10** dataset and define the transformations. You may also want to print its structure, size, as well as sample a few images to get a sense of how to design the network. "
      ]
    },
    {
      "metadata": {
        "id": "mcWyqhGIU7NR",
        "colab_type": "code",
        "colab": {
          "base_uri": "https://localhost:8080/",
          "height": 122
        },
        "outputId": "b86c7aba-286e-4bc9-d158-d6c31c9692f5"
      },
      "cell_type": "code",
      "source": [
        "from google.colab import drive\n",
        "drive.mount('/content/gdrive')\n",
        "import os\n",
        "os.chdir('/content/gdrive/My Drive/AML/HW10/')"
      ],
      "execution_count": 13,
      "outputs": [
        {
          "output_type": "stream",
          "text": [
            "Go to this URL in a browser: https://accounts.google.com/o/oauth2/auth?client_id=947318989803-6bn6qk8qdgf4n4g3pfee6491hc0brc4i.apps.googleusercontent.com&redirect_uri=urn%3Aietf%3Awg%3Aoauth%3A2.0%3Aoob&scope=email%20https%3A%2F%2Fwww.googleapis.com%2Fauth%2Fdocs.test%20https%3A%2F%2Fwww.googleapis.com%2Fauth%2Fdrive%20https%3A%2F%2Fwww.googleapis.com%2Fauth%2Fdrive.photos.readonly%20https%3A%2F%2Fwww.googleapis.com%2Fauth%2Fpeopleapi.readonly&response_type=code\n",
            "\n",
            "Enter your authorization code:\n",
            "··········\n",
            "Mounted at /content/gdrive\n"
          ],
          "name": "stdout"
        }
      ]
    },
    {
      "metadata": {
        "colab_type": "code",
        "id": "mIJmLIgaZ_d3",
        "colab": {
          "base_uri": "https://localhost:8080/",
          "height": 34
        },
        "outputId": "58cc9ba3-f102-4387-b8eb-78a7497a9ab0"
      },
      "cell_type": "code",
      "source": [
        "!mkdir hw10_data"
      ],
      "execution_count": 8,
      "outputs": [
        {
          "output_type": "stream",
          "text": [
            "mkdir: cannot create directory ‘hw10_data’: File exists\n"
          ],
          "name": "stdout"
        }
      ]
    },
    {
      "metadata": {
        "colab_type": "code",
        "id": "aDBbPmPPaQuG",
        "colab": {}
      },
      "cell_type": "code",
      "source": [
        "# Download the data.\n",
        "from torchvision import datasets, transforms as T\n",
        "\n",
        "# transformations = transforms.Compose(\n",
        "#     [transforms.ToTensor(),\n",
        "#      transforms.Normalize((0.5, 0.5, 0.5), (0.5, 0.5, 0.5))])\n",
        "#train_set = datasets.CIFAR10(root='hw10_data/', download=True, transform=transformations)\n",
        "transform_augment = T.Compose([\n",
        "    T.RandomHorizontalFlip(),\n",
        "    T.RandomCrop(32, padding=4)])\n",
        "transform_normalize = T.Compose([\n",
        "    T.ToTensor(),\n",
        "    T.Normalize((0.5, 0.5, 0.5), (0.5, 0.5, 0.5))\n",
        "])\n",
        "\n",
        "train_set = datasets.CIFAR10(root='hw10_data/', download=False, transform=T.Compose([transform_augment, transform_normalize]))\n",
        "test_set = datasets.CIFAR10(root='hw10_data', download=False, train=False, transform=transform_normalize)"
      ],
      "execution_count": 0,
      "outputs": []
    },
    {
      "metadata": {
        "colab_type": "text",
        "id": "dfomsGyJiKz9"
      },
      "cell_type": "markdown",
      "source": [
        "Use `DataLoader` to create a loader for the training set and a loader for the testing set. You can use a `batch_size` of 8 to start, and change it if you wish."
      ]
    },
    {
      "metadata": {
        "colab_type": "code",
        "id": "Ioe04mbSiQiV",
        "colab": {}
      },
      "cell_type": "code",
      "source": [
        "from torch.utils.data import DataLoader\n",
        "#batch_size was 16 for most trials.\n",
        "batch_size = 128\n",
        "train_loader = torch.utils.data.DataLoader(train_set, batch_size, shuffle=True, num_workers=2)\n",
        "test_loader = torch.utils.data.DataLoader(test_set, batch_size, shuffle=True, num_workers=2)\n",
        "\n",
        "input_shape = np.array(train_set[0][0]).shape\n",
        "input_dim = input_shape[1]*input_shape[2]*input_shape[0]\n"
      ],
      "execution_count": 0,
      "outputs": []
    },
    {
      "metadata": {
        "colab_type": "code",
        "id": "fGoPdmuUOOiE",
        "colab": {}
      },
      "cell_type": "code",
      "source": [
        "training_epochs = 5"
      ],
      "execution_count": 0,
      "outputs": []
    },
    {
      "metadata": {
        "colab_type": "text",
        "id": "3T2-qkh8frqF"
      },
      "cell_type": "markdown",
      "source": [
        "## Part 1 CIFAR10 with Fully Connected Neural Netowrk (25 Points)\n",
        "\n",
        "As a warm-up, let's begin by training a two-layer fully connected neural network model on ** CIFAR-10** dataset. You may go back to check HW8 for some basics.\n",
        "\n",
        "We will give you this code to use as a baseline to compare against your CNN models."
      ]
    },
    {
      "metadata": {
        "colab_type": "code",
        "id": "Ck1CGpRycRFE",
        "colab": {
          "base_uri": "https://localhost:8080/",
          "height": 153
        },
        "outputId": "cb37eefa-8508-4996-abee-812c9e670110"
      },
      "cell_type": "code",
      "source": [
        "class TwoLayerModel(nn.Module):\n",
        "  def __init__(self):\n",
        "    super(TwoLayerModel, self).__init__()\n",
        "    self.net = nn.Sequential(\n",
        "      Flatten(), \n",
        "      nn.Linear(input_dim, 64), \n",
        "      nn.ReLU(), \n",
        "      nn.Linear(64, 10))\n",
        "    \n",
        "  def forward(self, x):\n",
        "    return self.net(x)\n",
        "\n",
        "model = TwoLayerModel().to(device)\n",
        "\n",
        "loss = nn.CrossEntropyLoss()\n",
        "optimizer = optim.RMSprop(model.parameters(), lr=0.001, weight_decay=0.01)\n",
        "\n",
        "# Training epoch should be about 15-20 sec each on GPU.\n",
        "metrics = train(model, train_loader, test_loader, loss, optimizer, training_epochs)"
      ],
      "execution_count": 10,
      "outputs": [
        {
          "output_type": "stream",
          "text": [
            "  Epoch 0 @ step 0: Train Loss: 0.004338, Train Accuracy: 0.000078\n",
            "Epoch 0 Test Loss: 1.765087, Test Accuracy: 0.367385, time: 1.6s\n",
            "Epoch 1 Test Loss: 1.706385, Test Accuracy: 0.394778, time: 1.7s\n",
            "  Epoch 2 @ step 1000: Train Loss: 1.826174, Train Accuracy: 0.346130\n",
            "Epoch 2 Test Loss: 1.661670, Test Accuracy: 0.414062, time: 1.7s\n",
            "Epoch 3 Test Loss: 1.678591, Test Accuracy: 0.397943, time: 1.7s\n",
            "Epoch 4 Test Loss: 1.693860, Test Accuracy: 0.391713, time: 1.7s\n",
            "Final Test Loss: 1.693860, Test Accuracy: 0.391713, Total time: 8.4s\n"
          ],
          "name": "stdout"
        }
      ]
    },
    {
      "metadata": {
        "colab_type": "text",
        "id": "qjbncuMnKpf7"
      },
      "cell_type": "markdown",
      "source": [
        "**Plot the model results**\n",
        "\n",
        "Normally we would want to use Tensorboard for looking at metrics.  However, if colab reset while we are working, we might lose our logs and therefore our metrics.  Let's just plot some graphs that will survive across colab instances."
      ]
    },
    {
      "metadata": {
        "colab_type": "code",
        "id": "CuVL9MJ_D92h",
        "colab": {
          "base_uri": "https://localhost:8080/",
          "height": 573
        },
        "outputId": "d115433b-115f-44a8-b16e-7f7d24793ec3"
      },
      "cell_type": "code",
      "source": [
        "plot_graphs(\"TwoLayerModel\", metrics)"
      ],
      "execution_count": 11,
      "outputs": [
        {
          "output_type": "display_data",
          "data": {
            "image/png": "[encoded data removed]",
            "text/plain": [
              "<Figure size 432x288 with 1 Axes>"
            ]
          },
          "metadata": {
            "tags": []
          }
        },
        {
          "output_type": "display_data",
          "data": {
            "image/png": "[encoded data removed]",
            "text/plain": [
              "<Figure size 432x288 with 1 Axes>"
            ]
          },
          "metadata": {
            "tags": []
          }
        }
      ]
    },
    {
      "metadata": {
        "colab_type": "text",
        "id": "4_xi8bkkfsM7"
      },
      "cell_type": "markdown",
      "source": [
        "## Part 2 Convolutional Neural Network (CNN) (35 Points)\n",
        "\n",
        "Now, let's design a convolution neural netwrok!\n",
        "\n",
        "Build a simple CNN model, inserting 2 CNN layers in from of our 2 layer fully connect model from above:\n",
        "\n",
        "1. A convolution with\t3x3 filter, 16 output channels, stride = 1, padding=1\n",
        "2. A ReLU activation\n",
        "2. A Max-Pooling layer with 2x2 window\n",
        "3. A convolution,\t3x3 filter, 16 output channels, stride = 1, padding=1\n",
        "4. A ReLU activation\n",
        "4. Flatten layer\n",
        "5. Fully connected linear layer with output size 64\n",
        "6. ReLU\n",
        "7. Fully connected linear layer, with output size 10\n",
        "\n",
        "You will have to figure out the input sizes of the first fully connnected layer based on the previous layer sizes. Note that you also need to fill those in the report section (see report section in the notebook for details) "
      ]
    },
    {
      "metadata": {
        "colab_type": "code",
        "id": "tLXjjywngO7g",
        "colab": {}
      },
      "cell_type": "code",
      "source": [
        "class ConvModel(nn.Module):\n",
        "  def __init__(self):\n",
        "    super(ConvModel, self).__init__()\n",
        "    self.net = nn.Sequential(\n",
        "      # 3 x 32 x 32\n",
        "      nn.Conv2d(3, 16, kernel_size=3, stride=1, padding=1), \n",
        "      nn.ReLU(),\n",
        "      # 16 x 32 x 32\n",
        "      nn.MaxPool2d(kernel_size=2, stride=2, padding=0),\n",
        "      # 16 x 16 x 16\n",
        "      nn.Conv2d(16, 16, kernel_size=3, stride=1, padding=1),\n",
        "      nn.ReLU(),\n",
        "      # 16 x 16 x 16\n",
        "      Flatten(),\n",
        "      # 65536\n",
        "      nn.Linear(16 * 16 * 16, 64), \n",
        "      nn.ReLU(), \n",
        "      nn.Linear(64, 10))\n",
        "    \n",
        "  def forward(self, x):\n",
        "    return self.net(x)\n",
        "  \n",
        "\n",
        "model = ConvModel().to(device)\n",
        "\n",
        "loss = nn.CrossEntropyLoss()\n",
        "optimizer = optim.RMSprop(model.parameters(), lr=0.001, weight_decay=0.01)\n",
        "\n",
        "#metrics = train(model, train_loader, test_loader, loss, optimizer, training_epochs)\n",
        "metrics = train(model, train_loader, test_loader, loss, optimizer, 2160)"
      ],
      "execution_count": 0,
      "outputs": []
    },
    {
      "metadata": {
        "colab_type": "code",
        "id": "8BGTJw-TPTfh",
        "colab": {
          "base_uri": "https://localhost:8080/",
          "height": 573
        },
        "outputId": "e53244fd-4fcf-4132-e722-a8fa23378b1a"
      },
      "cell_type": "code",
      "source": [
        "plot_graphs(\"ConvModel\", metrics)"
      ],
      "execution_count": 11,
      "outputs": [
        {
          "output_type": "display_data",
          "data": {
            "image/png": "[encoded data removed]",
            "text/plain": [
              "<Figure size 432x288 with 1 Axes>"
            ]
          },
          "metadata": {
            "tags": []
          }
        },
        {
          "output_type": "display_data",
          "data": {
            "image/png": "[encoded data removed]",
            "text/plain": [
              "<Figure size 432x288 with 1 Axes>"
            ]
          },
          "metadata": {
            "tags": []
          }
        }
      ]
    },
    {
      "metadata": {
        "colab_type": "text",
        "id": "oFAc6IORmzCJ"
      },
      "cell_type": "markdown",
      "source": [
        "Do you notice the improvement over the accuracy compared to that in Part 1?"
      ]
    },
    {
      "metadata": {
        "id": "Q4HYDaV0XhoX",
        "colab_type": "text"
      },
      "cell_type": "markdown",
      "source": [
        "Yes! +10% on accuracy for only a few more seconds of runtime.  It plateaued at 65%."
      ]
    },
    {
      "metadata": {
        "colab_type": "text",
        "id": "hXpJgsjhftDP"
      },
      "cell_type": "markdown",
      "source": [
        "## Part 3 Open Design Competition (35 Points + 10 bonus points)\n",
        "\n",
        "Try to beat the previous models by adding additional layers, changing parameters, etc.  You should add at least one layer.\n",
        "\n",
        "Possible changes include:\n",
        "*   Dropout\n",
        "*   Batch Normalization\n",
        "*   More layers\n",
        "*   Residual Connections (harder)\n",
        "*   Change layer size\n",
        "*   Pooling layers, stride\n",
        "*   Different optimizer\n",
        "*   Train for longer\n",
        "\n",
        "Once you have a model you think is great, evaluate it against our hidden test data (see hidden_loader above) and upload the results to the leader board on gradescope.  **The top 3 scorers will get a bonus 10 points.**\n",
        "\n",
        "You can steal model structures found on the internet if you want.  The only constraint is that **you must train the model from scratch**.\n"
      ]
    },
    {
      "metadata": {
        "id": "grxlSZ6STgl0",
        "colab_type": "code",
        "colab": {}
      },
      "cell_type": "code",
      "source": [
        "import torch.nn as nn\n",
        "import torch.nn.functional as F\n",
        "\n",
        "\n",
        "class ResNet(nn.Module):\n",
        "    \n",
        "    def __init__(self, n=7, res_option='A', use_dropout=False):\n",
        "        super(ResNet, self).__init__()\n",
        "        self.res_option = res_option\n",
        "        self.use_dropout = use_dropout\n",
        "        self.conv1 = nn.Conv2d(3, 16, kernel_size=3, stride=1, padding=1)\n",
        "        self.norm1 = nn.BatchNorm2d(16)\n",
        "        self.relu1 = nn.ReLU(inplace=True)\n",
        "        self.layers1 = self._make_layer(n, 16, 16, 1)\n",
        "        self.layers2 = self._make_layer(n, 32, 16, 2)\n",
        "        self.layers3 = self._make_layer(n, 64, 32, 2)\n",
        "        self.avgpool = nn.AvgPool2d(8)\n",
        "        self.linear = nn.Linear(64, 10)\n",
        "    \n",
        "    def _make_layer(self, layer_count, channels, channels_in, stride):\n",
        "        return nn.Sequential(\n",
        "            ResBlock(channels, channels_in, stride, res_option=self.res_option, use_dropout=self.use_dropout),\n",
        "            *[ResBlock(channels) for _ in range(layer_count-1)])\n",
        "    \n",
        "    def forward(self, x):\n",
        "        out = self.conv1(x)\n",
        "        out = self.norm1(out)\n",
        "        out = self.relu1(out)\n",
        "        out = self.layers1(out)\n",
        "        out = self.layers2(out)\n",
        "        out = self.layers3(out)\n",
        "        out = self.avgpool(out)\n",
        "        out = out.view(out.size(0), -1)\n",
        "        out = self.linear(out)\n",
        "        return out\n",
        "\n",
        "class ResBlock(nn.Module):\n",
        "    \n",
        "    def __init__(self, num_filters, channels_in=None, stride=1, res_option='A', use_dropout=False):\n",
        "        super(ResBlock, self).__init__()\n",
        "        \n",
        "        # uses 1x1 convolutions for downsampling\n",
        "        if not channels_in or channels_in == num_filters:\n",
        "            channels_in = num_filters\n",
        "            self.projection = None\n",
        "        else:\n",
        "            if res_option == 'A':\n",
        "                self.projection = IdentityPadding(num_filters, channels_in, stride)\n",
        "            elif res_option == 'B':\n",
        "                self.projection = ConvProjection(num_filters, channels_in, stride)\n",
        "            elif res_option == 'C':\n",
        "                self.projection = AvgPoolPadding(num_filters, channels_in, stride)\n",
        "        self.use_dropout = use_dropout\n",
        "\n",
        "        self.conv1 = nn.Conv2d(channels_in, num_filters, kernel_size=3, stride=stride, padding=1)\n",
        "        self.bn1 = nn.BatchNorm2d(num_filters)\n",
        "        self.relu1 = nn.ReLU(inplace=True)\n",
        "        self.conv2 = nn.Conv2d(num_filters, num_filters, kernel_size=3, stride=1, padding=1)\n",
        "        self.bn2 = nn.BatchNorm2d(num_filters)\n",
        "        if self.use_dropout:\n",
        "            self.dropout = nn.Dropout(inplace=True)\n",
        "        self.relu2 = nn.ReLU(inplace=True)\n",
        "\n",
        "    def forward(self, x):\n",
        "        residual = x\n",
        "        out = self.conv1(x)\n",
        "        out = self.bn1(out)\n",
        "        out = self.relu1(out)\n",
        "        out = self.conv2(out)\n",
        "        out = self.bn2(out)\n",
        "        if self.use_dropout:\n",
        "            out = self.dropout(out)\n",
        "        if self.projection:\n",
        "            residual = self.projection(x)\n",
        "        out += residual\n",
        "        out = self.relu2(out)\n",
        "        return out\n",
        "\n",
        "\n",
        "# various projection options to change number of filters in residual connection\n",
        "# option A from paper\n",
        "class IdentityPadding(nn.Module):\n",
        "    def __init__(self, num_filters, channels_in, stride):\n",
        "        super(IdentityPadding, self).__init__()\n",
        "        # with kernel_size=1, max pooling is equivalent to identity mapping with stride\n",
        "        self.identity = nn.MaxPool2d(1, stride=stride)\n",
        "        self.num_zeros = num_filters - channels_in\n",
        "    \n",
        "    def forward(self, x):\n",
        "        out = F.pad(x, (0, 0, 0, 0, 0, self.num_zeros))\n",
        "        out = self.identity(out)\n",
        "        return out\n",
        "\n",
        "# option B from paper\n",
        "class ConvProjection(nn.Module):\n",
        "\n",
        "    def __init__(self, num_filters, channels_in, stride):\n",
        "        super(ResA, self).__init__()\n",
        "        self.conv = nn.Conv2d(channels_in, num_filters, kernel_size=1, stride=stride)\n",
        "    \n",
        "    def forward(self, x):\n",
        "        out = self.conv(x)\n",
        "        return out\n",
        "\n",
        "# experimental option C\n",
        "class AvgPoolPadding(nn.Module):\n",
        "\n",
        "    def __init__(self, num_filters, channels_in, stride):\n",
        "        super(AvgPoolPadding, self).__init__()\n",
        "        self.identity = nn.AvgPool2d(stride, stride=stride)\n",
        "        self.num_zeros = num_filters - channels_in\n",
        "    \n",
        "    def forward(self, x):\n",
        "        out = F.pad(x, (0, 0, 0, 0, 0, self.num_zeros))\n",
        "        out = self.identity(out)\n",
        "        return out"
      ],
      "execution_count": 0,
      "outputs": []
    },
    {
      "metadata": {
        "colab_type": "code",
        "id": "QZFkuraiZOaT",
        "colab": {
          "base_uri": "https://localhost:8080/",
          "height": 1649
        },
        "outputId": "4ac335d1-f115-4af7-a769-748b317bad4b"
      },
      "cell_type": "code",
      "source": [
        "#import torchvision.models as models\n",
        "#model = models.resnet101().to(device)\n",
        "# You Awesome Super Best model code here\n",
        "# model = rgb_resnet152().to(device)\n",
        "#model= ResNet110().to(device)\n",
        "model = ResNet(n=9).to(device)\n",
        "loss = nn.CrossEntropyLoss()\n",
        "# optimizer = optim.Adam(model.parameters(), lr=1e-4)\n",
        "optimizer = optim.SGD(model.parameters(), momentum=0.9, lr=1e-1, weight_decay=0.0001)\n",
        "\n",
        "#metrics = train(model, train_loader, test_loader, loss, optimizer, training_epochs)\n",
        "awesome_metrics, last_training_step = train(model, train_loader, test_loader, loss, optimizer, 50) #50)\n",
        "optimizer = optim.SGD(model.parameters(), momentum=0.9, lr=1e-2, weight_decay=0.0001)\n",
        "awesome_metrics, last_training_step = train(model, train_loader, test_loader, loss, optimizer, 5, awesome_metrics, last_training_step, 50)\n",
        "optimizer = optim.SGD(model.parameters(), momentum=0.9, lr=1e-3, weight_decay=0.0001)\n",
        "awesome_metrics, last_training_step = train(model, train_loader, test_loader, loss, optimizer, 5, awesome_metrics, last_training_step, 55)\n"
      ],
      "execution_count": 38,
      "outputs": [
        {
          "output_type": "stream",
          "text": [
            "First training step: 0\n",
            "  Epoch 0 @ step 0: Train Loss: 4.695028, Train Accuracy: 0.109375\n",
            "Epoch 0 Test Loss: 1.440948, Test Accuracy: 0.481903, time: 45.1s\n",
            "Epoch 1 Test Loss: 1.057074, Test Accuracy: 0.627967, time: 44.5s\n",
            "  Epoch 2 @ step 1000: Train Loss: 1.287163, Train Accuracy: 0.526973\n",
            "Epoch 2 Test Loss: 0.905960, Test Accuracy: 0.696697, time: 44.7s\n",
            "Epoch 3 Test Loss: 0.700798, Test Accuracy: 0.765823, time: 44.4s\n",
            "Epoch 4 Test Loss: 0.749734, Test Accuracy: 0.753362, time: 44.5s\n",
            "  Epoch 5 @ step 2000: Train Loss: 0.706920, Train Accuracy: 0.752100\n",
            "Epoch 5 Test Loss: 0.713735, Test Accuracy: 0.760581, time: 44.5s\n",
            "Epoch 6 Test Loss: 0.600866, Test Accuracy: 0.797567, time: 44.4s\n",
            "  Epoch 7 @ step 3000: Train Loss: 0.539526, Train Accuracy: 0.814297\n",
            "Epoch 7 Test Loss: 0.583031, Test Accuracy: 0.809434, time: 44.6s\n",
            "Epoch 8 Test Loss: 0.567659, Test Accuracy: 0.807259, time: 44.4s\n",
            "Epoch 9 Test Loss: 0.491000, Test Accuracy: 0.834949, time: 44.4s\n",
            "  Epoch 10 @ step 4000: Train Loss: 0.462434, Train Accuracy: 0.840078\n",
            "Epoch 10 Test Loss: 0.500810, Test Accuracy: 0.832872, time: 44.6s\n",
            "Epoch 11 Test Loss: 0.494997, Test Accuracy: 0.837322, time: 44.4s\n",
            "  Epoch 12 @ step 5000: Train Loss: 0.409636, Train Accuracy: 0.857836\n",
            "Epoch 12 Test Loss: 0.531367, Test Accuracy: 0.823279, time: 44.5s\n",
            "Epoch 13 Test Loss: 0.595557, Test Accuracy: 0.806171, time: 44.5s\n",
            "Epoch 14 Test Loss: 0.558699, Test Accuracy: 0.819620, time: 44.4s\n",
            "  Epoch 15 @ step 6000: Train Loss: 0.371183, Train Accuracy: 0.871439\n",
            "Epoch 15 Test Loss: 0.531798, Test Accuracy: 0.830498, time: 44.2s\n",
            "Epoch 16 Test Loss: 0.869599, Test Accuracy: 0.761768, time: 44.4s\n",
            "  Epoch 17 @ step 7000: Train Loss: 0.342817, Train Accuracy: 0.880702\n",
            "Epoch 17 Test Loss: 0.505377, Test Accuracy: 0.833663, time: 44.4s\n",
            "Epoch 18 Test Loss: 0.491242, Test Accuracy: 0.840388, time: 44.4s\n",
            "Epoch 19 Test Loss: 0.601933, Test Accuracy: 0.809929, time: 44.4s\n",
            "  Epoch 20 @ step 8000: Train Loss: 0.318839, Train Accuracy: 0.889189\n",
            "Epoch 20 Test Loss: 0.506494, Test Accuracy: 0.836926, time: 44.3s\n",
            "Epoch 21 Test Loss: 0.450238, Test Accuracy: 0.853837, time: 44.3s\n",
            "Epoch 22 Test Loss: 0.643325, Test Accuracy: 0.815368, time: 44.3s\n",
            "  Epoch 23 @ step 9000: Train Loss: 0.298462, Train Accuracy: 0.896147\n",
            "Epoch 23 Test Loss: 0.480806, Test Accuracy: 0.853441, time: 44.4s\n",
            "Epoch 24 Test Loss: 0.448940, Test Accuracy: 0.858188, time: 44.3s\n",
            "  Epoch 25 @ step 10000: Train Loss: 0.282235, Train Accuracy: 0.902188\n",
            "Epoch 25 Test Loss: 0.468474, Test Accuracy: 0.846025, time: 44.4s\n",
            "Epoch 26 Test Loss: 0.456038, Test Accuracy: 0.853540, time: 44.5s\n",
            "Epoch 27 Test Loss: 0.471457, Test Accuracy: 0.852749, time: 44.4s\n",
            "  Epoch 28 @ step 11000: Train Loss: 0.267204, Train Accuracy: 0.907095\n",
            "Epoch 28 Test Loss: 0.425842, Test Accuracy: 0.866100, time: 44.5s\n",
            "Epoch 29 Test Loss: 0.440699, Test Accuracy: 0.860265, time: 44.3s\n",
            "  Epoch 30 @ step 12000: Train Loss: 0.255819, Train Accuracy: 0.910516\n",
            "Epoch 30 Test Loss: 0.463883, Test Accuracy: 0.859771, time: 44.4s\n",
            "Epoch 31 Test Loss: 0.413467, Test Accuracy: 0.869066, time: 44.5s\n",
            "Epoch 32 Test Loss: 0.450208, Test Accuracy: 0.861155, time: 44.4s\n",
            "  Epoch 33 @ step 13000: Train Loss: 0.245359, Train Accuracy: 0.915178\n",
            "Epoch 33 Test Loss: 0.455808, Test Accuracy: 0.856210, time: 44.4s\n",
            "Epoch 34 Test Loss: 0.434250, Test Accuracy: 0.865803, time: 44.2s\n",
            "  Epoch 35 @ step 14000: Train Loss: 0.236083, Train Accuracy: 0.917872\n",
            "Epoch 35 Test Loss: 0.451061, Test Accuracy: 0.865605, time: 44.4s\n",
            "Epoch 36 Test Loss: 0.467078, Test Accuracy: 0.857595, time: 44.4s\n",
            "Epoch 37 Test Loss: 0.445468, Test Accuracy: 0.861155, time: 44.3s\n",
            "  Epoch 38 @ step 15000: Train Loss: 0.227001, Train Accuracy: 0.920272\n",
            "Epoch 38 Test Loss: 0.368984, Test Accuracy: 0.881725, time: 44.4s\n",
            "Epoch 39 Test Loss: 0.599292, Test Accuracy: 0.824565, time: 44.4s\n",
            "  Epoch 40 @ step 16000: Train Loss: 0.217508, Train Accuracy: 0.924019\n",
            "Epoch 40 Test Loss: 0.509159, Test Accuracy: 0.848299, time: 44.4s\n",
            "Epoch 41 Test Loss: 0.391971, Test Accuracy: 0.875791, time: 44.3s\n",
            "Epoch 42 Test Loss: 0.420406, Test Accuracy: 0.864122, time: 44.4s\n",
            "  Epoch 43 @ step 17000: Train Loss: 0.213974, Train Accuracy: 0.925030\n",
            "Epoch 43 Test Loss: 0.459764, Test Accuracy: 0.863331, time: 44.4s\n",
            "Epoch 44 Test Loss: 0.449630, Test Accuracy: 0.857793, time: 44.5s\n",
            "Epoch 45 Test Loss: 0.424830, Test Accuracy: 0.871044, time: 44.3s\n",
            "  Epoch 46 @ step 18000: Train Loss: 0.212137, Train Accuracy: 0.924902\n",
            "Epoch 46 Test Loss: 0.476874, Test Accuracy: 0.854430, time: 44.3s\n",
            "Epoch 47 Test Loss: 0.413455, Test Accuracy: 0.868770, time: 44.4s\n",
            "  Epoch 48 @ step 19000: Train Loss: 0.205454, Train Accuracy: 0.927344\n",
            "Epoch 48 Test Loss: 0.446215, Test Accuracy: 0.862243, time: 44.3s\n",
            "Epoch 49 Test Loss: 0.540962, Test Accuracy: 0.841179, time: 44.4s\n",
            "Final Test Loss: 0.540962, Test Accuracy: 0.841179, Total time: 2221.1s\n",
            "Last training step: 19550\n",
            "\n",
            "First training step: 19550\n",
            "Epoch 50 Test Loss: 0.257690, Test Accuracy: 0.918809, time: 44.4s\n",
            "  Epoch 51 @ step 20000: Train Loss: 0.114234, Train Accuracy: 0.963480\n",
            "Epoch 51 Test Loss: 0.247636, Test Accuracy: 0.920886, time: 44.4s\n",
            "Epoch 52 Test Loss: 0.253726, Test Accuracy: 0.919699, time: 44.4s\n",
            "  Epoch 53 @ step 21000: Train Loss: 0.075190, Train Accuracy: 0.974984\n",
            "Epoch 53 Test Loss: 0.264803, Test Accuracy: 0.918117, time: 44.3s\n",
            "Epoch 54 Test Loss: 0.263785, Test Accuracy: 0.921282, time: 44.4s\n",
            "Final Test Loss: 0.263785, Test Accuracy: 0.921282, Total time: 222.0s\n",
            "Last training step: 21505\n",
            "\n",
            "First training step: 21505\n",
            "Epoch 55 Test Loss: 0.257318, Test Accuracy: 0.922073, time: 44.4s\n",
            "  Epoch 56 @ step 22000: Train Loss: 0.058217, Train Accuracy: 0.982422\n",
            "Epoch 56 Test Loss: 0.262084, Test Accuracy: 0.921084, time: 44.4s\n",
            "Epoch 57 Test Loss: 0.259663, Test Accuracy: 0.921776, time: 44.4s\n",
            "  Epoch 58 @ step 23000: Train Loss: 0.051153, Train Accuracy: 0.983438\n",
            "Epoch 58 Test Loss: 0.263559, Test Accuracy: 0.920293, time: 44.4s\n",
            "Epoch 59 Test Loss: 0.256689, Test Accuracy: 0.923754, time: 44.4s\n",
            "Final Test Loss: 0.256689, Test Accuracy: 0.923754, Total time: 222.0s\n",
            "Last training step: 23460\n",
            "\n"
          ],
          "name": "stdout"
        }
      ]
    },
    {
      "metadata": {
        "colab_type": "text",
        "id": "xbx5REUdc-Xs"
      },
      "cell_type": "markdown",
      "source": [
        "**What changes did you make to improve your model?**"
      ]
    },
    {
      "metadata": {
        "id": "zpegYi6jz5a7",
        "colab_type": "text"
      },
      "cell_type": "markdown",
      "source": [
        "https://github.com/bryanyzhu/two-stream-pytorch/blob/master/models/rgb_resnet.pyOn Resnet-50:\n",
        "* Learning rate 6e-4 got me up to 70%\n",
        "* 1e-4 got me to 72%\n",
        "\n",
        "On Resnet-152:\n",
        "*  1e-4 got me 50%\n",
        "*   List item\n",
        "\n",
        "https://towardsdatascience.com/resnets-for-cifar-10-e63e900524e0\n",
        "Resnet-100:\n",
        "* 1e-4 got me 73%\n",
        "\n",
        "Resnet-56:\n",
        "* 1e-4 got me 73%\n",
        "\n",
        "rgb_resnet152\n",
        "* 1e-4 got me 75%.\n",
        "\n",
        "Got me 67%:\n",
        "model= ResNet110().to(device)\n",
        "loss = nn.CrossEntropyLoss()\n",
        "optimizer = optim.SGD(model.parameters(), momentum=0.9, lr=1e-4)\n",
        "\n",
        "\n",
        "https://towardsdatascience.com/dont-use-dropout-in-convolutional-networks-81486c823c16\n",
        "\n",
        "After lots of changes from https://github.com/KellerJordan/ResNet-PyTorch-CIFAR10, 150 epochs, 77% test accuracy.  That was with lowering LR, ending with lr=6e-5.\n",
        "\n",
        "Same setup, but lr=1e-1.  50 epochs -> 88% accuracy.  10 more epochs with lr=1e-2 -> 92.5.  10 more epochs with lr=1e-3 -> 92.5.  Reached 92.7.  This is Resnet-56, apparently."
      ]
    },
    {
      "metadata": {
        "colab_type": "code",
        "id": "uItu0w4fZTuG",
        "colab": {
          "base_uri": "https://localhost:8080/",
          "height": 573
        },
        "outputId": "6ff7ee6f-94d2-4d6d-cdf7-1453a7f1b1c5"
      },
      "cell_type": "code",
      "source": [
        "plot_graphs(\"AwesomeModel\", awesome_metrics)"
      ],
      "execution_count": 39,
      "outputs": [
        {
          "output_type": "display_data",
          "data": {
            "image/png": "[encoded data removed]",
            "text/plain": [
              "<Figure size 432x288 with 1 Axes>"
            ]
          },
          "metadata": {
            "tags": []
          }
        },
        {
          "output_type": "display_data",
          "data": {
            "image/png": "[encoded data removed]",
            "text/plain": [
              "<Figure size 432x288 with 1 Axes>"
            ]
          },
          "metadata": {
            "tags": []
          }
        }
      ]
    },
    {
      "metadata": {
        "colab_type": "text",
        "id": "rWlP2WsodgK0"
      },
      "cell_type": "markdown",
      "source": [
        "After you get a nice model, download the test_file.zip and unzip it to get test_file.pt. In colab, you can explore your files from the left side bar. You can also download the files to your machine from there."
      ]
    },
    {
      "metadata": {
        "colab_type": "code",
        "id": "Z6UZInUCdfQ1",
        "colab": {
          "base_uri": "https://localhost:8080/",
          "height": 306
        },
        "outputId": "4e216e07-e2ad-463b-8dbd-de33124d56b9"
      },
      "cell_type": "code",
      "source": [
        "!wget http://courses.engr.illinois.edu/cs498aml/sp2019/homeworks/test_file.zip\n",
        "!unzip test_file.zip"
      ],
      "execution_count": 32,
      "outputs": [
        {
          "output_type": "stream",
          "text": [
            "--2019-04-27 17:34:22--  http://courses.engr.illinois.edu/cs498aml/sp2019/homeworks/test_file.zip\n",
            "Resolving courses.engr.illinois.edu (courses.engr.illinois.edu)... 130.126.151.9\n",
            "Connecting to courses.engr.illinois.edu (courses.engr.illinois.edu)|130.126.151.9|:80... connected.\n",
            "HTTP request sent, awaiting response... 301 Moved Permanently\n",
            "Location: https://courses.engr.illinois.edu/cs498aml/sp2019/homeworks/test_file.zip [following]\n",
            "--2019-04-27 17:34:22--  https://courses.engr.illinois.edu/cs498aml/sp2019/homeworks/test_file.zip\n",
            "Connecting to courses.engr.illinois.edu (courses.engr.illinois.edu)|130.126.151.9|:443... connected.\n",
            "HTTP request sent, awaiting response... 200 OK\n",
            "Length: 3841776 (3.7M) [application/x-zip-compressed]\n",
            "Saving to: ‘test_file.zip’\n",
            "\n",
            "test_file.zip       100%[===================>]   3.66M  15.3MB/s    in 0.2s    \n",
            "\n",
            "2019-04-27 17:34:22 (15.3 MB/s) - ‘test_file.zip’ saved [3841776/3841776]\n",
            "\n",
            "Archive:  test_file.zip\n",
            "  inflating: test_file.pt            \n"
          ],
          "name": "stdout"
        }
      ]
    },
    {
      "metadata": {
        "colab_type": "text",
        "id": "7g5caFPreMLT"
      },
      "cell_type": "markdown",
      "source": [
        "Then use your model to predict the label of the test images. Fill the remaining code below, where x has two dimensions (batch_size x one image size). Remember to reshpe x accordingly before feeding it into your model. The submission.txt should contain one predicted label (0~9) each line. Submit your submission.txt to the competition in gradscope."
      ]
    },
    {
      "metadata": {
        "colab_type": "code",
        "id": "yNdYAH9XeLlb",
        "colab": {}
      },
      "cell_type": "code",
      "source": [
        "from google.colab import files\n",
        "import torch.utils.data as Data\n",
        "\n",
        "test_file = 'test_file.pt'\n",
        "pred_file = 'submission.txt'\n",
        "\n",
        "f_pred = open(pred_file,'w') \n",
        "tensor = torch.load(test_file)\n",
        "torch_dataset = Data.TensorDataset(tensor)  \n",
        "test_loader = torch.utils.data.DataLoader(torch_dataset, batch_size, shuffle=False, num_workers=2)\n",
        "\n",
        "for ele in test_loader:\n",
        "    x = ele[0]\n",
        "    x = x.view(-1, 3, 32, 32).to(device)\n",
        "    with torch.no_grad():\n",
        "      preds = model(x)\n",
        "      preds = torch.argmax(model(x), dim=1)\n",
        "      for pred in preds:\n",
        "        f_pred.write(str(pred.item()))\n",
        "        f_pred.write('\\n')\n",
        "    \n",
        "f_pred.close()\n",
        "files.download(pred_file)"
      ],
      "execution_count": 0,
      "outputs": []
    },
    {
      "metadata": {
        "id": "ZDXmRIglDE6i",
        "colab_type": "code",
        "colab": {
          "base_uri": "https://localhost:8080/",
          "height": 34
        },
        "outputId": "2c526cca-9a5a-454b-ae5f-551fcf0d4579"
      },
      "cell_type": "code",
      "source": [
        "torch.save(model.state_dict(), './state92.2')"
      ],
      "execution_count": 43,
      "outputs": [
        {
          "output_type": "stream",
          "text": [
            "/content/gdrive/My Drive/AML/HW10\n"
          ],
          "name": "stdout"
        }
      ]
    },
    {
      "metadata": {
        "id": "dIuM3GSwGuRj",
        "colab_type": "code",
        "colab": {}
      },
      "cell_type": "code",
      "source": [
        "print(model)"
      ],
      "execution_count": 0,
      "outputs": []
    },
    {
      "metadata": {
        "colab_type": "text",
        "id": "8-L6F0CMqc-A"
      },
      "cell_type": "markdown",
      "source": [
        "\n",
        "# Report\n",
        "\n",
        "## Part 0: Imports and Basic Setup (5 Points)\n",
        "Nothing to report for this part. You will be just scored for finishing the setup.\n",
        "\n",
        "## Part 1: Fully connected neural networks (25 Points)\n",
        "\n",
        "Test (on validation set) accuracy (5 Points):\n",
        "\n",
        "Test loss (5 Points):\n",
        "\n",
        "Training time (5 Points):\n",
        "\n",
        "\n",
        "Plots:\n",
        "\n",
        "- Plot a graph of accuracy on validation set vs training steps (5 Points)\n",
        "\n",
        "- Plot a graph of loss on validation set vs training steps (5 Points)\n",
        "\n",
        "\n",
        "## Part 2: Convolution Network (Basic) (35 Points)\n",
        "\n",
        "Tensor dimensions: A good way to debug your network for size mismatches is to print the dimension of output after every layers:\n",
        "\n",
        "(10 Points)\n",
        "\n",
        "Output dimension after 1st conv layer: \n",
        "\n",
        "Output dimension after 1st max pooling: \n",
        "\n",
        "Output dimension after 2nd conv layer: \n",
        "\n",
        "Output dimension after flatten layer:\n",
        "\n",
        "Output dimension after 1st fully connected layer:\n",
        "\n",
        "Output dimension after 2nd fully connected layer:\n",
        "\n",
        "\n",
        "Test (on validation set) Accuracy (5 Points):\n",
        "\n",
        "Test loss (5 Points):\n",
        "\n",
        "Training time (5 Points):\n",
        "\n",
        "\n",
        "Plots:\n",
        "\n",
        "- Plot a graph of accuracy on validation set vs training steps (5 Points)\n",
        "\n",
        "- Plot a graph of loss on validation set vs training steps (5 Points)\n",
        "\n",
        "\n",
        "\n",
        "## Part 3: Convolution Network (Add one or more  suggested changes) (35 Points)\n",
        "\n",
        "Describe the additional changes implemented, your intuition for as to why it works, you may also describe other approaches you experimented with (10 Points):\n",
        "\n",
        "\n",
        "Test (on validation set) Accuracy (5 Points):\n",
        "\n",
        "Test loss (5 Points):\n",
        "\n",
        "Training time (5 Points):\n",
        "\n",
        "\n",
        "Plots:\n",
        "\n",
        "- Plot a graph of accuracy on validation set vs training steps (5 Points)\n",
        "\n",
        "- Plot a graph of loss on validation set vs training steps (5 Points)\n",
        "\n",
        "10 bonus points will be awarded to top 3 scorers on leaderboard (in case of tie for 3rd position everyone tied for 3rd position will get the bonus)"
      ]
    },
    {
      "metadata": {
        "id": "SyeA1bwNo0at",
        "colab_type": "code",
        "colab": {}
      },
      "cell_type": "code",
      "source": [
        ""
      ],
      "execution_count": 0,
      "outputs": []
    }
  ]
}
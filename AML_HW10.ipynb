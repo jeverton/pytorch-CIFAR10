{
  "nbformat": 4,
  "nbformat_minor": 0,
  "metadata": {
    "colab": {
      "name": "AML_HW10.ipynb",
      "version": "0.3.2",
      "provenance": [],
      "collapsed_sections": [],
      "include_colab_link": true
    },
    "language_info": {
      "codemirror_mode": {
        "name": "ipython",
        "version": 3
      },
      "file_extension": ".py",
      "mimetype": "text/x-python",
      "name": "python",
      "nbconvert_exporter": "python",
      "pygments_lexer": "ipython3",
      "version": "3.6.7"
    },
    "kernelspec": {
      "display_name": "Python 3",
      "language": "python",
      "name": "python3"
    },
    "accelerator": "GPU"
  },
  "cells": [
    {
      "cell_type": "markdown",
      "metadata": {
        "id": "view-in-github",
        "colab_type": "text"
      },
      "source": [
        "<a href=\"https://colab.research.google.com/github/jeverton/aml-hw10/blob/master/AML_HW10.ipynb\" target=\"_parent\"><img src=\"https://colab.research.google.com/assets/colab-badge.svg\" alt=\"Open In Colab\"/></a>"
      ]
    },
    {
      "metadata": {
        "colab_type": "text",
        "id": "vUTgGUi4JEft"
      },
      "cell_type": "markdown",
      "source": [
        "# Homework 10 - CIFAR10 Image Classification with PyTorch"
      ]
    },
    {
      "metadata": {
        "colab_type": "text",
        "id": "T5Kx8gJBJEW_"
      },
      "cell_type": "markdown",
      "source": [
        "## About"
      ]
    },
    {
      "metadata": {
        "colab_type": "text",
        "id": "aRAalfd1GITX"
      },
      "cell_type": "markdown",
      "source": [
        "The goal of the homework is to train a convolutional neural network on the standard CIFAR10 image classfication dataset.\n",
        "\n",
        "When solving machine learning tasks using neural networks, one typically starts with a simple network architecture and then improves the network by adding new layers, retraining, adjusting parameters, retraining, etc.  We attempt to illustrate this process below with several architecture improvements.\n"
      ]
    },
    {
      "metadata": {
        "colab_type": "text",
        "id": "OCl5gakxJes-"
      },
      "cell_type": "markdown",
      "source": [
        "## Dev Environment\n",
        "### Working on Google Colab\n",
        "You may choose to work locally or on Google Colaboratory. You have access to free compute through this service.   Colab is recommended since it will be setup correctly and will have access to GPU resources.\n",
        "1. Visit https://colab.research.google.com/drive \n",
        "2. Navigate to the **`Upload`** tab, and upload your `HW10.ipynb`\n",
        "3. Now on the top right corner, under the `Comment` and `Share` options, you should see a `Connect` option. Once you are connected, you will have access to a VM with 12GB RAM, 50 GB disk space and a single GPU. The dropdown menu will allow you to connect to a local runtime as well.\n",
        "\n",
        "**Notes:** \n",
        "* **If you do not have a working setup for Python 3, this is your best bet. It will also save you from heavy installations like `tensorflow` if you don't want to deal with those.**\n",
        "* ***There is a downside*. You can only use this instance for a single 12-hour stretch, after which your data will be deleted, and you would have redownload all your datasets, any libraries not already on the VM, and regenerate your logs**.\n",
        "\n",
        "\n",
        "### Installing PyTorch and Dependencies\n",
        "\n",
        "The instructions for installing and setting up PyTorch can be found at https://pytorch.org/get-started/locally/. Make sure you follow the instructions for your machine. For any of the remaining libraries used in this assignment:\n",
        "* We have provided a `hw8_requirements.txt` file on the homework web page. \n",
        "* Download this file, and in the same directory you can run `pip3 install -r hw8_requirements.txt`\n",
        "​\n",
        "Check that PyTorch installed correctly by running the following:"
      ]
    },
    {
      "metadata": {
        "colab_type": "code",
        "id": "IaJ6BLrAJeCU",
        "colab": {
          "base_uri": "https://localhost:8080/",
          "height": 102
        },
        "outputId": "c69d6380-4e20-4e72-f82a-257bfbde23be"
      },
      "cell_type": "code",
      "source": [
        "import torch\n",
        "torch.rand(5, 3)"
      ],
      "execution_count": 2,
      "outputs": [
        {
          "output_type": "execute_result",
          "data": {
            "text/plain": [
              "tensor([[0.1848, 0.3402, 0.8890],\n",
              "        [0.8758, 0.3011, 0.6730],\n",
              "        [0.5959, 0.6323, 0.5212],\n",
              "        [0.1616, 0.4079, 0.1690],\n",
              "        [0.3672, 0.6599, 0.8548]])"
            ]
          },
          "metadata": {
            "tags": []
          },
          "execution_count": 2
        }
      ]
    },
    {
      "metadata": {
        "colab_type": "text",
        "id": "nEmmCk1IJiGn"
      },
      "cell_type": "markdown",
      "source": [
        "## Part 0 Imports and Basic Setup  (5 Points)"
      ]
    },
    {
      "metadata": {
        "colab_type": "text",
        "id": "Y3mTddKuXPBU"
      },
      "cell_type": "markdown",
      "source": [
        "First, import the required libraries as follows. The libraries we will use will be the same as those in HW8. "
      ]
    },
    {
      "metadata": {
        "colab_type": "code",
        "id": "UwtDsq3VbrNY",
        "colab": {}
      },
      "cell_type": "code",
      "source": [
        "import numpy as np\n",
        "import torch\n",
        "from torch import nn\n",
        "from torch import optim\n",
        "\n",
        "import matplotlib.pyplot as plt"
      ],
      "execution_count": 0,
      "outputs": []
    },
    {
      "metadata": {
        "colab_type": "text",
        "id": "QWKp_UGlWTyR"
      },
      "cell_type": "markdown",
      "source": [
        "**GPU Support**\n",
        "\n",
        "Training of large network can take a long time. PyTorch supports GPU with just a small amount of effort.\n",
        "\n",
        "When creating our networks, we will call \n",
        "`net.to(device)` to tell the network to train on the GPU, if one is available.  Note, if the network utilizes the GPU, it is important that any tensors we use with it (such as the data) also reside on the CPU.  Thus, a call like `images = images.to(device)` is necessary with any data we want to use with the GPU.\n",
        "\n",
        "Note: If you can't get access to a GPU, don't worry to much.  Since we use very small networks, the difference between CPU and GPU isn't large and in some cases GPU will actually be slower."
      ]
    },
    {
      "metadata": {
        "colab_type": "code",
        "id": "gbGGmnIXYca9",
        "colab": {
          "base_uri": "https://localhost:8080/",
          "height": 34
        },
        "outputId": "3350230c-aa89-47cb-e31e-42d6860e5cf6"
      },
      "cell_type": "code",
      "source": [
        "import torch.cuda as cuda\n",
        "\n",
        "# Use a GPU, i.e. cuda:0 device if it available.\n",
        "device = torch.device(\"cuda:0\" if cuda.is_available() else \"cpu\")\n",
        "print(device)"
      ],
      "execution_count": 4,
      "outputs": [
        {
          "output_type": "stream",
          "text": [
            "cuda:0\n"
          ],
          "name": "stdout"
        }
      ]
    },
    {
      "metadata": {
        "id": "_lzWqTRlo0X0",
        "colab_type": "text"
      },
      "cell_type": "markdown",
      "source": [
        "### Training Code"
      ]
    },
    {
      "metadata": {
        "cellView": "form",
        "colab_type": "code",
        "id": "_DZm8ammPCbL",
        "colab": {}
      },
      "cell_type": "code",
      "source": [
        "import time\n",
        "\n",
        "class Flatten(nn.Module):\n",
        "  \"\"\"NN Module that flattens the incoming tensor.\"\"\"\n",
        "  def forward(self, input):\n",
        "    return input.view(input.size(0), -1)\n",
        "  \n",
        "def train(model, train_loader, test_loader, loss_func, opt, num_epochs=10, log_dict=None, next_training_step=0, epoch_offset=0):\n",
        "  if log_dict == None:\n",
        "    all_training_loss = np.zeros((0,2))\n",
        "    all_training_acc = np.zeros((0,2))\n",
        "    all_test_loss = np.zeros((0,2))\n",
        "    all_test_acc = np.zeros((0,2))\n",
        "    training_step = 0\n",
        "  else:\n",
        "    all_training_loss = log_dict['loss']['train']\n",
        "    all_training_acc = log_dict['accuracy']['train']\n",
        "    all_test_loss = log_dict['loss']['test']\n",
        "    all_test_acc = log_dict['accuracy']['test']\n",
        "    training_step = next_training_step\n",
        "    \n",
        "  training_loss, training_acc = 2.0, 0.0\n",
        "  print_every = 1000\n",
        "\n",
        "  print('First training step: %d' % training_step)\n",
        "\n",
        "  start = time.clock()\n",
        "  step_count = 0\n",
        "  \n",
        "  for i in range(num_epochs):\n",
        "    epoch_start = time.clock() \n",
        "   \n",
        "    model.train()\n",
        "    for images, labels in train_loader:\n",
        "      images, labels = images.to(device), labels.to(device)\n",
        "      opt.zero_grad()\n",
        "\n",
        "      preds = model(images)\n",
        "      loss = loss_func(preds, labels)\n",
        "      loss.backward()\n",
        "      opt.step()\n",
        "      \n",
        "      training_loss += loss.item()\n",
        "      training_acc += (torch.argmax(preds, dim=1)==labels).float().mean()\n",
        "      step_count += 1\n",
        "      \n",
        "      if training_step % print_every == 0:\n",
        "        training_loss /= step_count\n",
        "        training_acc /= step_count\n",
        "        step_count = 0\n",
        "        \n",
        "        all_training_loss = np.concatenate((all_training_loss, [[training_step, training_loss]]))\n",
        "        all_training_acc = np.concatenate((all_training_acc, [[training_step, training_acc]]))\n",
        "        \n",
        "        print('  Epoch %d @ step %d: Train Loss: %3f, Train Accuracy: %3f' % (\n",
        "            i + epoch_offset, training_step, training_loss, training_acc))\n",
        "        training_loss, training_acc = 0.0, 0.0\n",
        "        \n",
        "      training_step+=1\n",
        "\n",
        "    model.eval()\n",
        "    with torch.no_grad():\n",
        "      validation_loss, validation_acc = 0.0, 0.0\n",
        "      count = 0\n",
        "      for images, labels in test_loader:\n",
        "        images, labels = images.to(device), labels.to(device)\n",
        "        output = model(images)\n",
        "        validation_loss+=loss_func(output,labels)\n",
        "        validation_acc+=(torch.argmax(output, dim=1) == labels).float().mean()\n",
        "        count += 1\n",
        "      validation_loss/=count\n",
        "      validation_acc/=count\n",
        "      \n",
        "      all_test_loss = np.concatenate((all_test_loss, [[training_step, validation_loss]]))\n",
        "      all_test_acc = np.concatenate((all_test_acc, [[training_step, validation_acc]]))\n",
        "      \n",
        "      epoch_time = time.clock() - epoch_start\n",
        "      \n",
        "      print('Epoch %d Test Loss: %3f, Test Accuracy: %3f, time: %.1fs' % (\n",
        "          i + epoch_offset, validation_loss, validation_acc, epoch_time))\n",
        "      \n",
        "  total_time = time.clock() - start\n",
        "  print('Final Test Loss: %3f, Test Accuracy: %3f, Total time: %.1fs' % (\n",
        "      validation_loss, validation_acc, total_time))\n",
        "  print('Last training step: %d\\n' % training_step)\n",
        "  return {'loss': { 'train': all_training_loss, 'test': all_test_loss },\n",
        "          'accuracy': { 'train': all_training_acc, 'test': all_test_acc }}, \\\n",
        "          training_step\n",
        "\n",
        "def plot_graphs(model_name, metrics):\n",
        "  for metric, values in metrics.items():\n",
        "    for name, v in values.items():\n",
        "      plt.plot(v[:,0], v[:,1], label=name)\n",
        "    plt.title(f'{metric} for {model_name}')\n",
        "    plt.legend()\n",
        "    plt.xlabel(\"Training Steps\")\n",
        "    plt.ylabel(metric)\n",
        "    plt.show()\n",
        "    "
      ],
      "execution_count": 0,
      "outputs": []
    },
    {
      "metadata": {
        "colab_type": "text",
        "id": "1RupXQbCaXb3"
      },
      "cell_type": "markdown",
      "source": [
        "Load the** CIFA-10** dataset and define the transformations. You may also want to print its structure, size, as well as sample a few images to get a sense of how to design the network. "
      ]
    },
    {
      "metadata": {
        "id": "mcWyqhGIU7NR",
        "colab_type": "code",
        "colab": {}
      },
      "cell_type": "code",
      "source": [
        "from google.colab import drive\n",
        "drive.mount('/content/gdrive')\n",
        "import os\n",
        "os.chdir('/content/gdrive/My Drive/AML/HW10/')"
      ],
      "execution_count": 0,
      "outputs": []
    },
    {
      "metadata": {
        "colab_type": "code",
        "id": "mIJmLIgaZ_d3",
        "colab": {
          "base_uri": "https://localhost:8080/",
          "height": 34
        },
        "outputId": "99a94eb7-9bf4-4fac-9f75-5fec74c7ab7b"
      },
      "cell_type": "code",
      "source": [
        "!mkdir hw10_data"
      ],
      "execution_count": 8,
      "outputs": [
        {
          "output_type": "stream",
          "text": [
            "mkdir: cannot create directory ‘hw10_data’: File exists\n"
          ],
          "name": "stdout"
        }
      ]
    },
    {
      "metadata": {
        "colab_type": "code",
        "id": "aDBbPmPPaQuG",
        "colab": {}
      },
      "cell_type": "code",
      "source": [
        "# Download the data.\n",
        "from torchvision import datasets, transforms as T\n",
        "\n",
        "# transformations = transforms.Compose(\n",
        "#     [transforms.ToTensor(),\n",
        "#      transforms.Normalize((0.5, 0.5, 0.5), (0.5, 0.5, 0.5))])\n",
        "#train_set = datasets.CIFAR10(root='hw10_data/', download=True, transform=transformations)\n",
        "transform_augment = T.Compose([\n",
        "    T.RandomHorizontalFlip(),\n",
        "    T.RandomCrop(32, padding=4)])\n",
        "transform_normalize = T.Compose([\n",
        "    T.ToTensor(),\n",
        "    T.Normalize((0.5, 0.5, 0.5), (0.5, 0.5, 0.5))\n",
        "])\n",
        "\n",
        "train_set = datasets.CIFAR10(root='hw10_data/', download=False, transform=T.Compose([transform_augment, transform_normalize]))\n",
        "test_set = datasets.CIFAR10(root='hw10_data', download=False, train=False, transform=transform_normalize)"
      ],
      "execution_count": 0,
      "outputs": []
    },
    {
      "metadata": {
        "colab_type": "text",
        "id": "dfomsGyJiKz9"
      },
      "cell_type": "markdown",
      "source": [
        "Use `DataLoader` to create a loader for the training set and a loader for the testing set. You can use a `batch_size` of 8 to start, and change it if you wish."
      ]
    },
    {
      "metadata": {
        "colab_type": "code",
        "id": "Ioe04mbSiQiV",
        "colab": {}
      },
      "cell_type": "code",
      "source": [
        "from torch.utils.data import DataLoader\n",
        "#batch_size was 16 for most trials.\n",
        "batch_size = 128\n",
        "train_loader = torch.utils.data.DataLoader(train_set, batch_size, shuffle=True, num_workers=2)\n",
        "test_loader = torch.utils.data.DataLoader(test_set, batch_size, shuffle=True, num_workers=2)\n",
        "\n",
        "input_shape = np.array(train_set[0][0]).shape\n",
        "input_dim = input_shape[1]*input_shape[2]*input_shape[0]\n"
      ],
      "execution_count": 0,
      "outputs": []
    },
    {
      "metadata": {
        "colab_type": "code",
        "id": "fGoPdmuUOOiE",
        "colab": {}
      },
      "cell_type": "code",
      "source": [
        "training_epochs = 5"
      ],
      "execution_count": 0,
      "outputs": []
    },
    {
      "metadata": {
        "colab_type": "text",
        "id": "3T2-qkh8frqF"
      },
      "cell_type": "markdown",
      "source": [
        "## Part 1 CIFAR10 with Fully Connected Neural Netowrk (25 Points)\n",
        "\n",
        "As a warm-up, let's begin by training a two-layer fully connected neural network model on ** CIFAR-10** dataset. You may go back to check HW8 for some basics.\n",
        "\n",
        "We will give you this code to use as a baseline to compare against your CNN models."
      ]
    },
    {
      "metadata": {
        "colab_type": "code",
        "id": "Ck1CGpRycRFE",
        "colab": {}
      },
      "cell_type": "code",
      "source": [
        "class TwoLayerModel(nn.Module):\n",
        "  def __init__(self):\n",
        "    super(TwoLayerModel, self).__init__()\n",
        "    self.net = nn.Sequential(\n",
        "      Flatten(), \n",
        "      nn.Linear(input_dim, 64), \n",
        "      nn.ReLU(), \n",
        "      nn.Linear(64, 10))\n",
        "    \n",
        "  def forward(self, x):\n",
        "    return self.net(x)\n",
        "\n",
        "model = TwoLayerModel().to(device)\n",
        "\n",
        "loss = nn.CrossEntropyLoss()\n",
        "optimizer = optim.RMSprop(model.parameters(), lr=0.001, weight_decay=0.01)\n",
        "\n",
        "# Training epoch should be about 15-20 sec each on GPU.\n",
        "metrics = train(model, train_loader, test_loader, loss, optimizer, training_epochs)"
      ],
      "execution_count": 0,
      "outputs": []
    },
    {
      "metadata": {
        "colab_type": "text",
        "id": "qjbncuMnKpf7"
      },
      "cell_type": "markdown",
      "source": [
        "**Plot the model results**\n",
        "\n",
        "Normally we would want to use Tensorboard for looking at metrics.  However, if colab reset while we are working, we might lose our logs and therefore our metrics.  Let's just plot some graphs that will survive across colab instances."
      ]
    },
    {
      "metadata": {
        "colab_type": "code",
        "id": "CuVL9MJ_D92h",
        "colab": {}
      },
      "cell_type": "code",
      "source": [
        "plot_graphs(\"TwoLayerModel\", metrics)"
      ],
      "execution_count": 0,
      "outputs": []
    },
    {
      "metadata": {
        "colab_type": "text",
        "id": "4_xi8bkkfsM7"
      },
      "cell_type": "markdown",
      "source": [
        "## Part 2 Convolutional Neural Network (CNN) (35 Points)\n",
        "\n",
        "Now, let's design a convolution neural netwrok!\n",
        "\n",
        "Build a simple CNN model, inserting 2 CNN layers in from of our 2 layer fully connect model from above:\n",
        "\n",
        "1. A convolution with\t3x3 filter, 16 output channels, stride = 1, padding=1\n",
        "2. A ReLU activation\n",
        "2. A Max-Pooling layer with 2x2 window\n",
        "3. A convolution,\t3x3 filter, 16 output channels, stride = 1, padding=1\n",
        "4. A ReLU activation\n",
        "4. Flatten layer\n",
        "5. Fully connected linear layer with output size 64\n",
        "6. ReLU\n",
        "7. Fully connected linear layer, with output size 10\n",
        "\n",
        "You will have to figure out the input sizes of the first fully connnected layer based on the previous layer sizes. Note that you also need to fill those in the report section (see report section in the notebook for details) "
      ]
    },
    {
      "metadata": {
        "colab_type": "code",
        "id": "tLXjjywngO7g",
        "colab": {}
      },
      "cell_type": "code",
      "source": [
        "class ConvModel(nn.Module):\n",
        "  def __init__(self):\n",
        "    super(ConvModel, self).__init__()\n",
        "    self.net = nn.Sequential(\n",
        "      # 3 x 32 x 32\n",
        "      nn.Conv2d(3, 16, kernel_size=3, stride=1, padding=1), \n",
        "      nn.ReLU(),\n",
        "      # 16 x 32 x 32\n",
        "      nn.MaxPool2d(kernel_size=2, stride=2, padding=0),\n",
        "      # 16 x 16 x 16\n",
        "      nn.Conv2d(16, 16, kernel_size=3, stride=1, padding=1),\n",
        "      nn.ReLU(),\n",
        "      # 16 x 16 x 16\n",
        "      Flatten(),\n",
        "      # 32768\n",
        "      nn.Linear(16 * 16 * 16, 64), \n",
        "      nn.ReLU(), \n",
        "      nn.Linear(64, 10))\n",
        "    \n",
        "  def forward(self, x):\n",
        "    return self.net(x)\n",
        "  \n",
        "\n",
        "model = ConvModel().to(device)\n",
        "\n",
        "loss = nn.CrossEntropyLoss()\n",
        "optimizer = optim.RMSprop(model.parameters(), lr=0.001, weight_decay=0.01)\n",
        "\n",
        "#metrics = train(model, train_loader, test_loader, loss, optimizer, training_epochs)\n",
        "metrics = train(model, train_loader, test_loader, loss, optimizer, 2160)"
      ],
      "execution_count": 0,
      "outputs": []
    },
    {
      "metadata": {
        "colab_type": "code",
        "id": "8BGTJw-TPTfh",
        "colab": {}
      },
      "cell_type": "code",
      "source": [
        "plot_graphs(\"ConvModel\", metrics)"
      ],
      "execution_count": 0,
      "outputs": []
    },
    {
      "metadata": {
        "colab_type": "text",
        "id": "oFAc6IORmzCJ"
      },
      "cell_type": "markdown",
      "source": [
        "Do you notice the improvement over the accuracy compared to that in Part 1?"
      ]
    },
    {
      "metadata": {
        "id": "Q4HYDaV0XhoX",
        "colab_type": "text"
      },
      "cell_type": "markdown",
      "source": [
        "Yes! +10% on accuracy for only a few more seconds of runtime.  It plateaued at 65%."
      ]
    },
    {
      "metadata": {
        "colab_type": "text",
        "id": "hXpJgsjhftDP"
      },
      "cell_type": "markdown",
      "source": [
        "## Part 3 Open Design Competition (35 Points + 10 bonus points)\n",
        "\n",
        "Try to beat the previous models by adding additional layers, changing parameters, etc.  You should add at least one layer.\n",
        "\n",
        "Possible changes include:\n",
        "*   Dropout\n",
        "*   Batch Normalization\n",
        "*   More layers\n",
        "*   Residual Connections (harder)\n",
        "*   Change layer size\n",
        "*   Pooling layers, stride\n",
        "*   Different optimizer\n",
        "*   Train for longer\n",
        "\n",
        "Once you have a model you think is great, evaluate it against our hidden test data (see hidden_loader above) and upload the results to the leader board on gradescope.  **The top 3 scorers will get a bonus 10 points.**\n",
        "\n",
        "You can steal model structures found on the internet if you want.  The only constraint is that **you must train the model from scratch**.\n"
      ]
    },
    {
      "metadata": {
        "id": "grxlSZ6STgl0",
        "colab_type": "code",
        "colab": {}
      },
      "cell_type": "code",
      "source": [
        "# From https://github.com/KellerJordan/ResNet-PyTorch-CIFAR10\n",
        "import torch.nn as nn\n",
        "import torch.nn.functional as F\n",
        "\n",
        "\n",
        "class ResNet(nn.Module):\n",
        "    \n",
        "    def __init__(self, n=7, res_option='A', use_dropout=False):\n",
        "        super(ResNet, self).__init__()\n",
        "        self.res_option = res_option\n",
        "        self.use_dropout = use_dropout\n",
        "        self.conv1 = nn.Conv2d(3, 16, kernel_size=3, stride=1, padding=1)\n",
        "        self.norm1 = nn.BatchNorm2d(16)\n",
        "        self.relu1 = nn.ReLU(inplace=True)\n",
        "        self.layers1 = self._make_layer(n, 16, 16, 1)\n",
        "        self.layers2 = self._make_layer(n, 32, 16, 2)\n",
        "        self.layers3 = self._make_layer(n, 64, 32, 2)\n",
        "        self.avgpool = nn.AvgPool2d(8)\n",
        "        self.linear = nn.Linear(64, 10)\n",
        "    \n",
        "    def _make_layer(self, layer_count, channels, channels_in, stride):\n",
        "        return nn.Sequential(\n",
        "            ResBlock(channels, channels_in, stride, res_option=self.res_option, use_dropout=self.use_dropout),\n",
        "            *[ResBlock(channels) for _ in range(layer_count-1)])\n",
        "    \n",
        "    def forward(self, x):\n",
        "        out = self.conv1(x)\n",
        "        out = self.norm1(out)\n",
        "        out = self.relu1(out)\n",
        "        out = self.layers1(out)\n",
        "        out = self.layers2(out)\n",
        "        out = self.layers3(out)\n",
        "        out = self.avgpool(out)\n",
        "        out = out.view(out.size(0), -1)\n",
        "        out = self.linear(out)\n",
        "        return out\n",
        "\n",
        "class ResBlock(nn.Module):\n",
        "    \n",
        "    def __init__(self, num_filters, channels_in=None, stride=1, res_option='A', use_dropout=False):\n",
        "        super(ResBlock, self).__init__()\n",
        "        \n",
        "        # uses 1x1 convolutions for downsampling\n",
        "        if not channels_in or channels_in == num_filters:\n",
        "            channels_in = num_filters\n",
        "            self.projection = None\n",
        "        else:\n",
        "            if res_option == 'A':\n",
        "                self.projection = IdentityPadding(num_filters, channels_in, stride)\n",
        "            elif res_option == 'B':\n",
        "                self.projection = ConvProjection(num_filters, channels_in, stride)\n",
        "            elif res_option == 'C':\n",
        "                self.projection = AvgPoolPadding(num_filters, channels_in, stride)\n",
        "        self.use_dropout = use_dropout\n",
        "\n",
        "        self.conv1 = nn.Conv2d(channels_in, num_filters, kernel_size=3, stride=stride, padding=1)\n",
        "        self.bn1 = nn.BatchNorm2d(num_filters)\n",
        "        self.relu1 = nn.ReLU(inplace=True)\n",
        "        self.conv2 = nn.Conv2d(num_filters, num_filters, kernel_size=3, stride=1, padding=1)\n",
        "        self.bn2 = nn.BatchNorm2d(num_filters)\n",
        "        if self.use_dropout:\n",
        "            self.dropout = nn.Dropout(inplace=True)\n",
        "        self.relu2 = nn.ReLU(inplace=True)\n",
        "\n",
        "    def forward(self, x):\n",
        "        residual = x\n",
        "        out = self.conv1(x)\n",
        "        out = self.bn1(out)\n",
        "        out = self.relu1(out)\n",
        "        out = self.conv2(out)\n",
        "        out = self.bn2(out)\n",
        "        if self.use_dropout:\n",
        "            out = self.dropout(out)\n",
        "        if self.projection:\n",
        "            residual = self.projection(x)\n",
        "        out += residual\n",
        "        out = self.relu2(out)\n",
        "        return out\n",
        "\n",
        "\n",
        "# various projection options to change number of filters in residual connection\n",
        "# option A from paper\n",
        "class IdentityPadding(nn.Module):\n",
        "    def __init__(self, num_filters, channels_in, stride):\n",
        "        super(IdentityPadding, self).__init__()\n",
        "        # with kernel_size=1, max pooling is equivalent to identity mapping with stride\n",
        "        self.identity = nn.MaxPool2d(1, stride=stride)\n",
        "        self.num_zeros = num_filters - channels_in\n",
        "    \n",
        "    def forward(self, x):\n",
        "        out = F.pad(x, (0, 0, 0, 0, 0, self.num_zeros))\n",
        "        out = self.identity(out)\n",
        "        return out\n",
        "\n",
        "# option B from paper\n",
        "class ConvProjection(nn.Module):\n",
        "\n",
        "    def __init__(self, num_filters, channels_in, stride):\n",
        "        super(ResA, self).__init__()\n",
        "        self.conv = nn.Conv2d(channels_in, num_filters, kernel_size=1, stride=stride)\n",
        "    \n",
        "    def forward(self, x):\n",
        "        out = self.conv(x)\n",
        "        return out\n",
        "\n",
        "# experimental option C\n",
        "class AvgPoolPadding(nn.Module):\n",
        "\n",
        "    def __init__(self, num_filters, channels_in, stride):\n",
        "        super(AvgPoolPadding, self).__init__()\n",
        "        self.identity = nn.AvgPool2d(stride, stride=stride)\n",
        "        self.num_zeros = num_filters - channels_in\n",
        "    \n",
        "    def forward(self, x):\n",
        "        out = F.pad(x, (0, 0, 0, 0, 0, self.num_zeros))\n",
        "        out = self.identity(out)\n",
        "        return out"
      ],
      "execution_count": 0,
      "outputs": []
    },
    {
      "metadata": {
        "colab_type": "code",
        "id": "QZFkuraiZOaT",
        "colab": {
          "base_uri": "https://localhost:8080/",
          "height": 1649
        },
        "outputId": "b9a7dadf-2b12-4613-bcb5-ddd03fa6b6ab"
      },
      "cell_type": "code",
      "source": [
        "# You Awesome Super Best model code here\n",
        "\n",
        "# Built-in resnet:\n",
        "#import torchvision.models as models\n",
        "#model = models.resnet101().to(device)\n",
        "\n",
        "model = ResNet(n=9).to(device)\n",
        "loss = nn.CrossEntropyLoss()\n",
        "# optimizer = optim.Adam(model.parameters(), lr=1e-4)\n",
        "optimizer = optim.SGD(model.parameters(), momentum=0.9, lr=1e-1, weight_decay=0.0001)\n",
        "\n",
        "#metrics = train(model, train_loader, test_loader, loss, optimizer, training_epochs)\n",
        "awesome_metrics, last_training_step = train(model, train_loader, test_loader, loss, optimizer, 50) #50)\n",
        "optimizer = optim.SGD(model.parameters(), momentum=0.9, lr=1e-2, weight_decay=0.0001)\n",
        "awesome_metrics, last_training_step = train(model, train_loader, test_loader, loss, optimizer, 5, awesome_metrics, last_training_step, 50)\n",
        "optimizer = optim.SGD(model.parameters(), momentum=0.9, lr=1e-3, weight_decay=0.0001)\n",
        "awesome_metrics, last_training_step = train(model, train_loader, test_loader, loss, optimizer, 5, awesome_metrics, last_training_step, 55)\n"
      ],
      "execution_count": 13,
      "outputs": [
        {
          "output_type": "stream",
          "text": [
            "First training step: 0\n",
            "  Epoch 0 @ step 0: Train Loss: 4.393348, Train Accuracy: 0.070312\n",
            "Epoch 0 Test Loss: 1.389912, Test Accuracy: 0.499703, time: 41.8s\n",
            "Epoch 1 Test Loss: 1.034819, Test Accuracy: 0.651305, time: 43.9s\n",
            "  Epoch 2 @ step 1000: Train Loss: 1.277722, Train Accuracy: 0.534844\n",
            "Epoch 2 Test Loss: 0.745415, Test Accuracy: 0.743374, time: 44.6s\n",
            "Epoch 3 Test Loss: 0.860775, Test Accuracy: 0.710938, time: 44.2s\n",
            "Epoch 4 Test Loss: 0.727671, Test Accuracy: 0.758208, time: 44.1s\n",
            "  Epoch 5 @ step 2000: Train Loss: 0.681425, Train Accuracy: 0.763008\n",
            "Epoch 5 Test Loss: 0.726127, Test Accuracy: 0.761274, time: 44.3s\n",
            "Epoch 6 Test Loss: 0.575063, Test Accuracy: 0.811116, time: 44.5s\n",
            "  Epoch 7 @ step 3000: Train Loss: 0.526088, Train Accuracy: 0.818303\n",
            "Epoch 7 Test Loss: 0.670006, Test Accuracy: 0.780756, time: 44.3s\n",
            "Epoch 8 Test Loss: 0.508641, Test Accuracy: 0.825554, time: 44.2s\n",
            "Epoch 9 Test Loss: 0.573356, Test Accuracy: 0.809138, time: 44.3s\n",
            "  Epoch 10 @ step 4000: Train Loss: 0.445887, Train Accuracy: 0.846300\n",
            "Epoch 10 Test Loss: 0.494828, Test Accuracy: 0.833465, time: 44.4s\n",
            "Epoch 11 Test Loss: 0.558679, Test Accuracy: 0.810621, time: 44.2s\n",
            "  Epoch 12 @ step 5000: Train Loss: 0.397322, Train Accuracy: 0.862280\n",
            "Epoch 12 Test Loss: 0.467347, Test Accuracy: 0.845728, time: 44.4s\n",
            "Epoch 13 Test Loss: 0.574693, Test Accuracy: 0.820115, time: 44.3s\n",
            "Epoch 14 Test Loss: 0.447605, Test Accuracy: 0.856210, time: 44.4s\n",
            "  Epoch 15 @ step 6000: Train Loss: 0.358285, Train Accuracy: 0.876103\n",
            "Epoch 15 Test Loss: 0.456389, Test Accuracy: 0.851760, time: 44.4s\n",
            "Epoch 16 Test Loss: 0.596952, Test Accuracy: 0.807456, time: 44.4s\n",
            "  Epoch 17 @ step 7000: Train Loss: 0.333631, Train Accuracy: 0.884180\n",
            "Epoch 17 Test Loss: 0.774070, Test Accuracy: 0.768888, time: 44.4s\n",
            "Epoch 18 Test Loss: 0.459039, Test Accuracy: 0.854826, time: 44.4s\n",
            "Epoch 19 Test Loss: 0.467280, Test Accuracy: 0.846519, time: 44.3s\n",
            "  Epoch 20 @ step 8000: Train Loss: 0.305854, Train Accuracy: 0.893627\n",
            "Epoch 20 Test Loss: 0.433998, Test Accuracy: 0.859276, time: 44.3s\n",
            "Epoch 21 Test Loss: 0.387379, Test Accuracy: 0.872923, time: 44.3s\n",
            "Epoch 22 Test Loss: 0.491903, Test Accuracy: 0.843948, time: 44.3s\n",
            "  Epoch 23 @ step 9000: Train Loss: 0.288736, Train Accuracy: 0.899975\n",
            "Epoch 23 Test Loss: 0.475519, Test Accuracy: 0.848002, time: 44.5s\n",
            "Epoch 24 Test Loss: 0.583159, Test Accuracy: 0.827136, time: 44.3s\n",
            "  Epoch 25 @ step 10000: Train Loss: 0.269969, Train Accuracy: 0.905461\n",
            "Epoch 25 Test Loss: 0.351333, Test Accuracy: 0.885285, time: 44.2s\n",
            "Epoch 26 Test Loss: 0.442669, Test Accuracy: 0.857694, time: 44.3s\n",
            "Epoch 27 Test Loss: 0.412244, Test Accuracy: 0.866297, time: 44.2s\n",
            "  Epoch 28 @ step 11000: Train Loss: 0.261067, Train Accuracy: 0.908470\n",
            "Epoch 28 Test Loss: 0.552629, Test Accuracy: 0.839003, time: 44.3s\n",
            "Epoch 29 Test Loss: 0.507570, Test Accuracy: 0.844244, time: 44.5s\n",
            "  Epoch 30 @ step 12000: Train Loss: 0.247455, Train Accuracy: 0.912792\n",
            "Epoch 30 Test Loss: 0.439282, Test Accuracy: 0.865210, time: 44.4s\n",
            "Epoch 31 Test Loss: 0.415573, Test Accuracy: 0.869660, time: 44.3s\n",
            "Epoch 32 Test Loss: 0.428284, Test Accuracy: 0.864221, time: 44.4s\n",
            "  Epoch 33 @ step 13000: Train Loss: 0.235491, Train Accuracy: 0.917748\n",
            "Epoch 33 Test Loss: 0.421543, Test Accuracy: 0.867682, time: 44.3s\n",
            "Epoch 34 Test Loss: 0.442196, Test Accuracy: 0.862144, time: 44.2s\n",
            "  Epoch 35 @ step 14000: Train Loss: 0.232300, Train Accuracy: 0.918506\n",
            "Epoch 35 Test Loss: 0.423054, Test Accuracy: 0.869264, time: 44.3s\n",
            "Epoch 36 Test Loss: 0.524921, Test Accuracy: 0.842464, time: 44.2s\n",
            "Epoch 37 Test Loss: 0.358516, Test Accuracy: 0.887362, time: 44.3s\n",
            "  Epoch 38 @ step 15000: Train Loss: 0.221257, Train Accuracy: 0.922283\n",
            "Epoch 38 Test Loss: 0.409635, Test Accuracy: 0.873319, time: 44.3s\n",
            "Epoch 39 Test Loss: 0.627835, Test Accuracy: 0.821598, time: 44.3s\n",
            "  Epoch 40 @ step 16000: Train Loss: 0.218168, Train Accuracy: 0.923875\n",
            "Epoch 40 Test Loss: 0.398529, Test Accuracy: 0.871934, time: 44.3s\n",
            "Epoch 41 Test Loss: 0.397408, Test Accuracy: 0.868078, time: 44.3s\n",
            "Epoch 42 Test Loss: 0.390755, Test Accuracy: 0.880241, time: 44.3s\n",
            "  Epoch 43 @ step 17000: Train Loss: 0.208399, Train Accuracy: 0.926392\n",
            "Epoch 43 Test Loss: 0.562497, Test Accuracy: 0.844937, time: 44.4s\n",
            "Epoch 44 Test Loss: 0.556687, Test Accuracy: 0.840981, time: 44.4s\n",
            "Epoch 45 Test Loss: 0.481315, Test Accuracy: 0.860562, time: 44.4s\n",
            "  Epoch 46 @ step 18000: Train Loss: 0.208246, Train Accuracy: 0.927834\n",
            "Epoch 46 Test Loss: 0.411366, Test Accuracy: 0.874308, time: 44.4s\n",
            "Epoch 47 Test Loss: 0.386255, Test Accuracy: 0.881527, time: 44.4s\n",
            "  Epoch 48 @ step 19000: Train Loss: 0.199730, Train Accuracy: 0.930231\n",
            "Epoch 48 Test Loss: 0.404308, Test Accuracy: 0.878461, time: 44.4s\n",
            "Epoch 49 Test Loss: 0.677130, Test Accuracy: 0.825653, time: 44.4s\n",
            "Final Test Loss: 0.677130, Test Accuracy: 0.825653, Total time: 2213.5s\n",
            "Last training step: 19550\n",
            "\n",
            "First training step: 19550\n",
            "Epoch 50 Test Loss: 0.268724, Test Accuracy: 0.915348, time: 44.2s\n",
            "  Epoch 51 @ step 20000: Train Loss: 0.112841, Train Accuracy: 0.963418\n",
            "Epoch 51 Test Loss: 0.263555, Test Accuracy: 0.918513, time: 44.3s\n",
            "Epoch 52 Test Loss: 0.269123, Test Accuracy: 0.916634, time: 44.3s\n",
            "  Epoch 53 @ step 21000: Train Loss: 0.071852, Train Accuracy: 0.976098\n",
            "Epoch 53 Test Loss: 0.270811, Test Accuracy: 0.918612, time: 44.4s\n",
            "Epoch 54 Test Loss: 0.285021, Test Accuracy: 0.917524, time: 44.4s\n",
            "Final Test Loss: 0.285021, Test Accuracy: 0.917524, Total time: 221.6s\n",
            "Last training step: 21505\n",
            "\n",
            "First training step: 21505\n",
            "Epoch 55 Test Loss: 0.274760, Test Accuracy: 0.918513, time: 44.3s\n",
            "  Epoch 56 @ step 22000: Train Loss: 0.055592, Train Accuracy: 0.983131\n",
            "Epoch 56 Test Loss: 0.271941, Test Accuracy: 0.919798, time: 44.5s\n",
            "Epoch 57 Test Loss: 0.269542, Test Accuracy: 0.920491, time: 44.4s\n",
            "  Epoch 58 @ step 23000: Train Loss: 0.048059, Train Accuracy: 0.984758\n",
            "Epoch 58 Test Loss: 0.269492, Test Accuracy: 0.921183, time: 44.4s\n",
            "Epoch 59 Test Loss: 0.268258, Test Accuracy: 0.921381, time: 44.4s\n",
            "Final Test Loss: 0.268258, Test Accuracy: 0.921381, Total time: 222.1s\n",
            "Last training step: 23460\n",
            "\n"
          ],
          "name": "stdout"
        }
      ]
    },
    {
      "metadata": {
        "colab_type": "text",
        "id": "xbx5REUdc-Xs"
      },
      "cell_type": "markdown",
      "source": [
        "**What changes did you make to improve your model?**"
      ]
    },
    {
      "metadata": {
        "id": "zpegYi6jz5a7",
        "colab_type": "text"
      },
      "cell_type": "markdown",
      "source": [
        "https://github.com/bryanyzhu/two-stream-pytorch/blob/master/models/rgb_resnet.pyOn Resnet-50:\n",
        "* Learning rate 6e-4 got me up to 70%\n",
        "* 1e-4 got me to 72%\n",
        "\n",
        "On Resnet-152:\n",
        "*  1e-4 got me 50%\n",
        "*   List item\n",
        "\n",
        "https://towardsdatascience.com/resnets-for-cifar-10-e63e900524e0\n",
        "Resnet-100:\n",
        "* 1e-4 got me 73%\n",
        "\n",
        "Resnet-56:\n",
        "* 1e-4 got me 73%\n",
        "\n",
        "rgb_resnet152\n",
        "* 1e-4 got me 75%.\n",
        "\n",
        "Got me 67%:\n",
        "model= ResNet110().to(device)\n",
        "loss = nn.CrossEntropyLoss()\n",
        "optimizer = optim.SGD(model.parameters(), momentum=0.9, lr=1e-4)\n",
        "\n",
        "\n",
        "https://towardsdatascience.com/dont-use-dropout-in-convolutional-networks-81486c823c16\n",
        "\n",
        "After lots of changes from https://github.com/KellerJordan/ResNet-PyTorch-CIFAR10, 150 epochs, 77% test accuracy.  That was with lowering LR, ending with lr=6e-5.\n",
        "\n",
        "Same setup, but lr=1e-1.  50 epochs -> 88% accuracy.  10 more epochs with lr=1e-2 -> 92.5.  10 more epochs with lr=1e-3 -> 92.5.  Reached 92.7.  This is Resnet-56, apparently."
      ]
    },
    {
      "metadata": {
        "colab_type": "code",
        "id": "uItu0w4fZTuG",
        "colab": {
          "base_uri": "https://localhost:8080/",
          "height": 573
        },
        "outputId": "400fe5ab-61ed-4417-99bb-08d2c5df6ab6"
      },
      "cell_type": "code",
      "source": [
        "plot_graphs(\"AwesomeModel\", awesome_metrics)"
      ],
      "execution_count": 14,
      "outputs": [
        {
          "output_type": "display_data",
          "data": {
            "image/png": "[encoded data removed]",
            "text/plain": [
              "<Figure size 432x288 with 1 Axes>"
            ]
          },
          "metadata": {
            "tags": []
          }
        },
        {
          "output_type": "display_data",
          "data": {
            "image/png": "[encoded data removed]",
            "text/plain": [
              "<Figure size 432x288 with 1 Axes>"
            ]
          },
          "metadata": {
            "tags": []
          }
        }
      ]
    },
    {
      "metadata": {
        "colab_type": "text",
        "id": "rWlP2WsodgK0"
      },
      "cell_type": "markdown",
      "source": [
        "After you get a nice model, download the test_file.zip and unzip it to get test_file.pt. In colab, you can explore your files from the left side bar. You can also download the files to your machine from there."
      ]
    },
    {
      "metadata": {
        "colab_type": "code",
        "id": "Z6UZInUCdfQ1",
        "colab": {}
      },
      "cell_type": "code",
      "source": [
        "!wget http://courses.engr.illinois.edu/cs498aml/sp2019/homeworks/test_file.zip\n",
        "!unzip test_file.zip"
      ],
      "execution_count": 0,
      "outputs": []
    },
    {
      "metadata": {
        "colab_type": "text",
        "id": "7g5caFPreMLT"
      },
      "cell_type": "markdown",
      "source": [
        "Then use your model to predict the label of the test images. Fill the remaining code below, where x has two dimensions (batch_size x one image size). Remember to reshpe x accordingly before feeding it into your model. The submission.txt should contain one predicted label (0~9) each line. Submit your submission.txt to the competition in gradscope."
      ]
    },
    {
      "metadata": {
        "colab_type": "code",
        "id": "yNdYAH9XeLlb",
        "colab": {}
      },
      "cell_type": "code",
      "source": [
        "from google.colab import files\n",
        "import torch.utils.data as Data\n",
        "\n",
        "test_file = 'test_file.pt'\n",
        "pred_file = 'submission.txt'\n",
        "\n",
        "f_pred = open(pred_file,'w') \n",
        "tensor = torch.load(test_file)\n",
        "torch_dataset = Data.TensorDataset(tensor)  \n",
        "test_loader = torch.utils.data.DataLoader(torch_dataset, batch_size, shuffle=False, num_workers=2)\n",
        "\n",
        "for ele in test_loader:\n",
        "    x = ele[0]\n",
        "    x = x.view(-1, 3, 32, 32).to(device)\n",
        "    with torch.no_grad():\n",
        "      preds = model(x)\n",
        "      preds = torch.argmax(model(x), dim=1)\n",
        "      for pred in preds:\n",
        "        f_pred.write(str(pred.item()))\n",
        "        f_pred.write('\\n')\n",
        "    \n",
        "f_pred.close()\n",
        "files.download(pred_file)"
      ],
      "execution_count": 0,
      "outputs": []
    },
    {
      "metadata": {
        "id": "ZDXmRIglDE6i",
        "colab_type": "code",
        "colab": {}
      },
      "cell_type": "code",
      "source": [
        "torch.save(model.state_dict(), './state92.2')"
      ],
      "execution_count": 0,
      "outputs": []
    },
    {
      "metadata": {
        "id": "dIuM3GSwGuRj",
        "colab_type": "code",
        "colab": {}
      },
      "cell_type": "code",
      "source": [
        "print(model)"
      ],
      "execution_count": 0,
      "outputs": []
    },
    {
      "metadata": {
        "colab_type": "text",
        "id": "8-L6F0CMqc-A"
      },
      "cell_type": "markdown",
      "source": [
        "\n",
        "# Report\n",
        "\n",
        "## Part 0: Imports and Basic Setup (5 Points)\n",
        "Nothing to report for this part. You will be just scored for finishing the setup.\n",
        "\n",
        "## Part 1: Fully connected neural networks (25 Points)\n",
        "\n",
        "Test (on validation set) accuracy (5 Points):  **38.2%**\n",
        "\n",
        "Test loss (5 Points): **1.713992**\n",
        "\n",
        "Training time (5 Points):   **230.2s** -- This was run on Jupyter on a laptop.\n",
        "\n",
        "\n",
        "Plots:\n",
        "\n",
        "- Plot a graph of accuracy on validation set vs training steps (5 Points)\n",
        "![Part 1 Accuracy](data:image/png;base64,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)\n",
        "\n",
        "- Plot a graph of loss on validation set vs training steps (5 Points)\n",
        "![Part 1 Loss](data:image/png;base64,iVBORw0KGgoAAAANSUhEUgAAAYwAAAEWCAYAAAB1xKBvAAAABHNCSVQICAgIfAhkiAAAAAlwSFlzAAALEgAACxIB0t1+/AAAADl0RVh0U29mdHdhcmUAbWF0cGxvdGxpYiB2ZXJzaW9uIDIuMi4yLCBodHRwOi8vbWF0cGxvdGxpYi5vcmcvhp/UCwAAIABJREFUeJzt3XmYXGWZ///33dXV+5JO0glZSYAABoQAEXGQAcYREkXRrw6CojjiL/N1hNH5ir+BcWe8vheO83MbF4xjRhkVRJARRxjAYVMBJYQAYQkJYUmnQ/budFd1V3VV3b8/zqnO6UpVdyV0pbvTn9d11VWnnrPUfaq6z13nec55HnN3RERERlI11gGIiMjEoIQhIiJlUcIQEZGyKGGIiEhZlDBERKQsShgiIlIWJQwZVWb2kpn95SF6r3oz+7WZdZvZLw7Fe0ppZva/zey3ZS57k5l9ttIxyehSwpCJ7L3ATGCau//Va9mQmX3AzHrDR5+Z5SKve0cnXDCzR8zs0tHa3kHGcLyZuZk9VFA+28yyZvbcWMUm45sShkxkRwLPu3vmQFc0s+roa3f/qbs3uXsTsBzozL8Oyw4Lkf3OAjPMbFFk9qXAxkMflUwUShhSMWZWa2bfMLPO8PENM6sN5003s/8ysy4z221mvzOzqnDeP5jZFjPrMbP1ZvaWItv+EvB54H3hWcDlZlZlZp81s5fNbLuZ3WBmreHyC8Jf1Zeb2SvAvQe4Lx+LVnuZ2WYzuyHyeruZHR9On21ma8KqskfM7A1lbL/azG41s23hZ3KfmR0XzjsrfL+qyPIfMLNHwumYmX3OzDaZ2U4z+6mZTQnnHW9mGTP7f8xsM3BH5G1/Anwo8vqDwA2R15jZ68PvpsvMnjSz5ZF5M8zsDjPba2YPEyTw6Lonmtm9ZrbHzJ41s3eN9DnI+KaEIZX0GeAMYAlwMnA6kK+3/hTQAbQTVCv9I+DhQfIK4A3u3gycD7xUuGF3/wLwf4Gfh2cBPwQ+HD7OBY4CmoBvF6x6NvC6cLsH4oFwXczsKCAD/Hn4enEQkj9nZjOAXwPXAdOA64E78olrBLcDRwNHAM8BPw739XdAOv/+oUuB/winPw2cB7wZmAsMAF+PLBsD3ggcB1wYKb8B+IAFTgVywBP5mWZWB/wX8J8E39OngV+Y2cJwkZXAboLv72PARyLrtgD3AD8EphMkplVmdkwZn4OMU0oYUkkfAK519+3uvgP4EsGvWAgOarOAI919wN1/50HHZlmgFlhsZnF3f8ndXziA9/uau29y917gGuDiguqnL7p7wt37DmRH3P0ZGEwOf06QFPaa2QKCA/kD4aIXAmvd/WZ3z7j7jwgS4/LCbRZsP+PuP3b3XnfvJ/isTg8P2hAc3C8NY5gZvufPw3l/A1zt7p2Rdd9nZhZ5i8+7ezK63+6+CegM9+dDFJxdAGeFz18Lv6O7CJLA+8K43gl81t373H0t8NPIuu8G1oVVfVl3fzT8zN4z3Ocg45sShlTSbODlyOuXwzKArxLUl98dVqVcDeDuG4FPAl8EtodX08ymPMXer5rgF3De5gPdiYgHgXMIDrAPAPcTHLijCaMwhnwcc4bbcFgl9S/hZ7GX4AzDCM5SIDiY/6/wQH0JcI+77wyTwjyCs5guM+sCHif4386vm3P3zhJvfQPBmcFfMfSAn9+XV3xoD6X5fTkijG9zwby8I4E/z8cUxvUegh8JMkEpYUgldTK0Xnt+WIa797j7p9z9KOAdwP/Jt1W4+8/c/c3hug585TW8XwbYFil7Ld0zP0CQMM4iSB75aqp8AikWQz6OLSNs+68JqpXOBVqB48NyA3D3F4EnCT6rDxJWR4UH8y3AX7j7lMijzt13htsYbp9vJkgWT7r7qwXzOsPYi+3Lq+F25xXMy9sM3F0QU5O7f3LYT0HGNSUMqaQbgc+aWbuZTSdopP4JgJldYGbHhL+Q9xJURWXN7Dgz+4uwcbwf6Avnlft+f29mC82siX1tHAd8FVUJDwDLgHRYxfYAwa/mGuDpcJnbgVPM7L3hWcOHCA6k/x3ZTtzM6iKPaqCZYH93AY3Al4u8/w3A5wjaZ34dKb8euM7M5sFgY/Q7ytkhd+8iSIIfKzL7d0CVmX0y3Je3EiS1X4RVX78GvmTB/TAnEVQJ5v1n+Dm8z8ziZlZjZmeY2bHlxCXjkxKGVNKXgdUEv4yfAtaw70C4CPgt0As8DHzX3e8naL+4DthJ8Ct2BkGDeDlWEfzyfhB4keAAfOUo7EfeUwRtLw8ChL/gNwP59hfcfRtB3f5nCA7+VwAXhAfmaJx9kcf1BI3DOwj2+Sng90Xe/xfAMcDN7p6KlP8zwWd5r5n1AA8Bp5a7U+7+J3d/qUh5P3ABwf0uu4CvAe+LtCn9DUF13zbg+8C/R9bdQ3BhwV8DWwnOVr4MxMuNS8Yf0wBKIhNDeFntK8DF7l4soYhUlM4wRCaOS4C9ShYyVqpHXkRExlp4k94C4P1jHIpMYqqSEhGRsqhKSkREynJYVUlNnz7dFyxYMNZhiIhMGI899thOd28vZ9mKJYzwmvAbCO4IzQEr3f2bBcsY8E3gbUAS+LC7rwnnXca+foe+7O4/Huk9FyxYwOrVq0dvJ0REDnNmVtgzQUmVPMPIAJ9y9zVm1gw8Zmb35PvkCS0nuB5/EUHnaN8D3mhmU4EvAEsJ7iZ9zMxuD6/tFhGRMVCxNgx335o/W3D3HuBZ9u9P50LgBg88Akwxs1kEN/zc4+67wyRxD8EdtiIiMkYOSaN32KPnKcAfC2bNYWjnZR1hWanyYtteYWarzWz1jh07RitkEREpUPGEEfbpcyvwSXffWzi7yCo+TPn+he4r3X2puy9tby+r3UZERA5CRROGmcUJksVP3f2XRRbpYGhvl3MJ+pwpVS4iImOkYgkjvALqh8Cz7v61EovdDnwoHPHrDKDb3bcCdwHnmVmbmbUR9JB5V6ViFRGRkVXyKqkzCfrtf8rM1oZl/0jYZ767X08wvvDbCAbSSRL0bIm77zazfwIeDde71t13VzBWEREZQcUSRthBWrG2iOgyDny8xLxVBN1AjwuZbI6bV3fwziWzaao9rO53FBEpi7oGKdMTHd38421P8ZnbnkL9b4nIZKSEUaae/gEAfrW2k1+uGWm0TRGRw48SRpkSqWCU0HlT6/ncr9axaUfvGEckInJoKWGUKZEOhoX++kVLqKmu4u9uepx0JjfGUYmIHDpKGGVKpIKEccyMJr7ynpNYt2UvX73ruTGOSkTk0FHCKFM+YTTUVHP+CUdw6Rnz+cHvXuSB59UdiYhMDkoYZUqks9TEqqipDj6yz759McfObOJTN69lR09qjKMTEak8JYwyJVIZGmpjg6/r4jH+9ZJT6enP8KlfPEEup0ttReTwpoRRpkQqS2PN0Bv2jjuimc9esJgHn9/BD3//4hhFJiJyaChhlCmRyhS9w/vSN87nvMUz+ee7nuOpju4xiExE5NBQwihTIj20SirPzPjKe05iWmMtV964ht6wcVxE5HCjhFGmUmcYAG2NNXzj4iW8vDvJF3719CGOTETk0FDCKFMilaWhZv8zjLwzjprGlecew61rOrj1sQ76B7Lqc0pEDivqdrVMiXSGxhF6qf27tyziDy/s4lO/eIJP/eIJqiy4b6O+JkZDTYz6eCwyXU1jbYyGmmqaBp+raawNyhtrqmmojdFUW83R7U0jvreISKXpKFSm4aqk8qpjVfzbh5by6yc76enPkExn6Evn6BvIkExnSaaz9KWzJNMZdvWm6RvIkkhlSKSy9A1kS243HjNOmdfGnx0zjTOPmc6SeVOIx3RyKCKHlhJGmYIqqZE/rrbGGj70pgUHvP1szkmmg+SRSGdIpDL0pjLs7cvw+OY9PLRxF9/8nw1847cbaKiJcfrCqZx59HT+7JhpvO6IFqqqhh16RETkNatYwjCzVcAFwHZ3P7HI/E8DH4jE8TqgPRxt7yWgB8gCGXdfWqk4y5HO5EhnczQVuUpqtMSqjOa6OM118f3mLTvxCAC6kmke2bSLP2zcxR827uT+9c8CMLWxhjcdPY2zj23nnGPbmdFSV7E4RWTyquQZxo+AbwM3FJvp7l8FvgpgZu8A/r5gGNZz3X1nBeMrWzLsqXas2xGmNNSw7MRZLDtxFgBbu/v4w8ZdPLRxJ7/fuJPfPLkVgMWzWjj3+HbOOW4Gp8ybQvUI1VfuTseePtZt6ebJLd2s29JNa32cC5fM4exj2we7QxlL3X0DPP7KHh5/pYtMLsecKQ3MbatnTls9c6bUUxevXDIXkUAlh2h90MwWlLn4JcCNlYrltcrfW1F4p/dYm9Vaz3tPm8t7T5uLu/Ps1h7uW7+dB9bv4PoHNvGd+16gpa6as8Izj7OPa6e9qZYte5Ksf/ElHt/hPLElwbot3exJBgNEVVcZx85s5unOvfzXk1tpa4jzjpNn8+5T5rBk3hTMKl/15e5s2pngsZf38Pgre3js5T1s2N6LO1RZcO9LtqArlvbmWuZMqR9MInPbGjhhdgsnzG6htlrJRGQ0jPkR0MwagGXAFZFiB+42Mwe+7+4rh1l/BbACYP78+RWJMZkOGqTH+gxjOGbG4tktLJ7dwsfPPYbuvgF+v2En96/fzgPP7xg8+2ipq6aqfw9r6/6GtwA91ki6uhWfOZWa5mk0TplBrHEa2bo2NvZU84dO53er1/C5RxppbpvB2Scfy9uXHsu8aY1lx+buDGQ9aPAfyIQN/0FD/77pDJ1d/ax5eQ9rXtkzmMBa6qo59cg23nHSbE47so2T5k2hrrqKbT0pOnYn2dLVR8eePrbs6aOjK8m6Ld3c9fSrDGSDhFITq2Lx7BZOnd/GKfOncMr8KcyZUn9IEt/ByGRzbO3uZ/PuJLsSaaY31XJEax1HtNRRP8xl3WTS0N8deXQFzwN9UNsEda2RxxSobYHY+Px7dnfS2VxQFRxWB6czOQayTm11VXCVYU2MuupYRdvuMtkcm3YmiFUZM5praaqtHhd/N7mc8/jmLu55ZhvnHtfOG4+adsjeezz8xbwD+ENBddSZ7t5pZjOAe8zsOXd/sNjKYTJZCbB06dKK3PiQP8Modqf3eNVaH+ftJ83i7SfNwt15Zute7l+/g449SU5qn0tH4oscEU/SnOqCvj2Q3A19u6HjJejbQyy1l+OA44CPxIAYkAQehvRDMbpiLdAwlWxtG8lYMz3WTBfN7PYmduUa2TbQwNZ0PVtS9Wzur2NnromBMv7cjpnRxFsXz+S0I9s47cg2jpreVPSgMGdKUBVVTC7nvLq3nyc7ugersX72p5dZ9Yegv6/25lpOmTeFU+a3cfysZtKZHD39GXr6B+jtz9CTCqaDsmC6uqqKBdMbOKq9iaOmN3JUexNHTms44KvVsjmnK5mmY08fm/ckeWV3ks27k2zd1c3u3TtJdu+m0XtpsSQtJGmxxODz9Op+2uP9TIv10WpJmklSn+ulNtNDLNt/QHEAZGINDNQ0k4m3kK1pJlPTQq6mhVhDGzVNbdQ1txFvmLJ/sqlrDRJOdc0BvV8u52zd28+LOxK8uLOXTTsTvLgzwUs7E+ztzwxJEOWqi1cFl6uHl6zX18RorY9zdHsTi2Y2c+yM4Hlq4/Cxujtbu/tZu7mLJzZ38fjmLtZt6R78sQhQH48xo6WWGc21zGipC56bg+dpTTXEqoycB9vycJvuDJblHBpqYhx3RDMzmmsPKPn0D2R5+IVd3P3Mq/z22e3s6ElRXWVMb6qZdAnjYgqqo9y9M3zebma3AacDRRPGoZAMh2cd6bLa8crMOGF2KyfMbo2UnjD8StkB6OsKkkg+mfTtoWvXNl54+RW2vtpJrHsPU0gwxbYx1Xo5ml5qbWD/bYX/qwOxetLxKQzUTiFT24bXBw+rn0pV4zTqW9tpaI1DwwDUhw8cOLBfdVVVxuwp9cyeUj94wcBANsf6V3t4/JU9rHmli8df2cPdz2wrun5tdRXNdXFa6qppqqumua6adCbHvc9t5+bVHYPLxaqM+VMbOGp6I4umxTluSo66bC/9PbtJ93aRSe4h19eF9XdTld5LPL2X2mzvYAI4niSnW5IWS1JHeshntd/XYTH6q5rp9Ub2ZhrYlq3nmUw73b6AvTSw1xvD5wb20jj43EcNTfTTQiJMQgmarS94nUnSkoompZfC5yT1JKm24Q/cA1V1pOPNpGNNwXN1M6nq4Dld3Uw63syeXD2bkzVs6omxobuKXdn6wVhj8ToWTm/khNmtTGmIU1NdRW11LHyuGhxOoCacro4ZqUyO/siZaf9AcKaaP2PtT2fZlUjzyzVbhnTTM72phkUzmjl2ZpBAFs1oIpNz1m7uGnzkhynIn5VetHQeJ81txQy2702xvSfFtr39bO9J8UznXu7f208iXfpy+OFMbazh+COaed2sFl43q4Xjj2hm0cymIdWn3ckB7l2/jXue2cYD63eQSGdprIlxznEzOO+EmZxz3Axa6/e/SKaSxvQIaGatwNnApZGyRqDK3XvC6fOAa8coRGD8tmFUVCwOTe3BI2IKcBrBL6aN23vJOUxpiNNaH6e2ugoGkmGC2TM02ST3EO/bQzxa1vMcbN8TLEuJk0OrCn7VNkyF+jaonxpOT4WGtiJl4XLxBoj8govHqjhxTisnzmnlg28KynYn0rywo5f6eIzm6gwtJGn0BDUDPZDqhv5dQ6t55naTTuyhf+9uBpJBlU91317qXuql9qX0sB9nlhh91c0M1AW/5K1+JjWNbdS3TC34FV/4iz54xOL1NJrRCMwMt5nJ5tjRm6KnP0OVGVVG+GyYBYkzX2bhJ5zJObmck8k52cKHO9uzOZ5PDrCrp5+9Pd30du8i1bObdGIP2XCfq1J7afIEzZakJR1NOFtpYSMzw7OjuBUcTKsZcsTx6jpsoBX2tEJf674zl/x+V7dCvNjnEi5TXTfkO47KnzE8v62HDdt6eX5bD89v7+WWxzr2O8gfNb2RN4f3Ny2ZN4XjZzUXb/dyh1wWcgOQy0B2gER/il17E3QnkpDNYJ6lyjNUeQbzHDEfwHI5qnwA8yz9qX46d/XQubuXV7t62P5Kgj/mMqwhS43lmNlUzezmGH2pNFt391BFljfUwMUz61g4tYbZzXFinoGXM/BiZjAOapvhwm8P+zc4Gip5We2NwDnAdDPrAL4AxAHc/fpwsXcDd7t7IrLqTOC28HStGviZu/93peIsR360vcYJVCVVaWbGopnN+8+oaQweU+aVv7FcLqhzH6waK0w2kbKerbD9maBsIFF6m7HagiQSHnDSycEEMDV80N8N2REGwaqKQ/0UaupaqaltgbapULdw8CCWq22l2xvI1bbQ0DKNuuY2LHKQi8XraRrl+u/qWBWzWuuZ1TrysqMpl/PBMe5L6XenfyBJXS5BPN1TtH3FomWpvcF3vOel4HVfV3BgHk6spmhyJd6A5bLMzg0wO5fhnFw2OKi2ZPCmAdLpNP2pFJbL0lCdo5ocbB+AVzPwx8hBOJcZmiBy++9zY/g4EMcP2YfwMfjBhQ8YPDo7cawrDnuroSryiOWn49A49IddpVTyKqlLyljmRwSX30bLNgEnVyaqgzNeLqs9bFVVBQf1hqkw7ejy18ukhra/RKrOomc29O2GnRuCA1FN474Dy5R5RQ44xX/hD/drFoJO2dpe+ycxIVSF9wyNqL6G4Jz0ILhDpr8g0ezd15hf6tHdEfwoqIqFB9X4kIOsxeLUxuPU1tZH5seCg26xA/GIr2OR9yjxukgc5b+OHWCFbGXpCFiG3rANY1JVSU0E1bXQfETwkMOLGcTrg4e+33Fj7O/ImgCS6QxVFlyRISIyWekIWIbeVNBT7Xi4BltEZKwoYZQhkcqoOkpEJj0ljDIk0lldISUik54SRhnKGQtDRORwp4RRhkQqU9ZYGCIihzMljDIkUlndgyEik54SRhmC8bzVhiEik5sSRhl0hiEiooRRFjV6i4goYYwom3P6BrI0DDd4jYjIJKCEMYJ8x4M6wxCRyU4JYwSJsONBXVYrIpOdEsYIEmmNhSEiAkoYI8oPnqQqKRGZ7JQwRpAfnlVVUiIy2VUsYZjZKjPbbmbrSsw/x8y6zWxt+Ph8ZN4yM1tvZhvN7OpKxViOZNiGoTMMEZnsKnmG8SNg2QjL/M7dl4SPawHMLAZ8B1gOLAYuMbPFFYxzWPk2jAa1YYjIJFexhOHuDwK7D2LV04GN7r7J3dPATcCFoxrcAehVG4aICDD2bRhvMrMnzOxOMzshLJsDbI4s0xGWFWVmK8xstZmt3rFjx6gHmK+SUtcgIjLZjWXCWAMc6e4nA/8K/GdYXmwcVC+1EXdf6e5L3X1pe3v7qAc52OgdV5WUiExuY5Yw3H2vu/eG03cAcTObTnBGMS+y6FygcwxCBII7vRtqYlRVaTxvEZncxixhmNkRZmbh9OlhLLuAR4FFZrbQzGqAi4HbxyrOXvVUKyICQMWOhGZ2I3AOMN3MOoAvAHEAd78eeC/wMTPLAH3Axe7uQMbMrgDuAmLAKnd/ulJxjiSRytCojgdFRCqXMNz9khHmfxv4dol5dwB3VCKuA5VMZ3SGISLC2F8lNe71pjI06i5vEREljJEk01l1PCgighLGiHpTqpISEQEljBElVCUlIgIoYYwoqctqRUQAJYxhuTuJdEZtGCIiKGEMq28gS87Vj5SICChhDCuhjgdFRAYpYQwjPzyr7vQWEVHCGFZ+8CSdYYiIKGEMK6HhWUVEBilhDCNfJdWgKikRESWM4eSrpHSGISKihDGswTMMJQwRESWM4Qy2YahrEBERJYzh7DvDUBuGiEjFEoaZrTKz7Wa2rsT8D5jZk+HjITM7OTLvJTN7yszWmtnqSsU4kt50hprqKuIx5VURkUoeCX8ELBtm/ovA2e5+EvBPwMqC+ee6+xJ3X1qh+EaUTGXV4C0iEqrkEK0PmtmCYeY/FHn5CDC3UrEcrEQqo0tqRURC46Wu5XLgzshrB+42s8fMbMUYxURvKqMzDBGR0JgfDc3sXIKE8eZI8Znu3mlmM4B7zOw5d3+wxPorgBUA8+fPH9XYguFZx/wjEhEZF8b0DMPMTgL+DbjQ3Xfly929M3zeDtwGnF5qG+6+0t2XuvvS9vb2UY2vV1VSIiKDxixhmNl84JfAB939+Uh5o5k156eB84CiV1pVWjKtKikRkbyKHQ3N7EbgHGC6mXUAXwDiAO5+PfB5YBrwXTMDyIRXRM0EbgvLqoGfuft/VyrO4SQ0PKuIyKBKXiV1yQjzPwp8tEj5JuDk/dc49HpTGY2FISISGi9XSY1LyXRGZxgiIiEljBJSmSwDWVfCEBEJKWGUkMyP560qKRERQAmjpN6UhmcVEYlSwihB43mLiAylhFFCfiwMJQwRkYASRgn5sTDUhiEiElDCKCGhNgwRkSGUMEpIpMPhWZUwREQAJYySBodnVZWUiAighFGSrpISERlKCaOERCpDrMqordZHJCICShglJVJZGmtihL3miohMekoYJSQ0PKuIyBBKGCUk0hkalDBERAYpYZSgwZNERIZSwighqJLSJbUiInllJQwz+4SZtVjgh2a2xszOK2O9VWa23cyKjskdbu9bZrbRzJ40s1Mj8y4zsw3h47Lyd2l09KYyNNToDENEJK/cM4yPuPte4DygHfhr4Loy1vsRsGyY+cuBReFjBfA9ADObSjAG+BuB04EvmFlbmbGOimQ6q0ZvEZGIchNG/trStwH/7u5PRMpKcvcHgd3DLHIhcIMHHgGmmNks4HzgHnff7e57gHsYPvGMukQqo7u8RUQiyk0Yj5nZ3QQJ4y4zawZyo/D+c4DNkdcdYVmp8v2Y2QozW21mq3fs2DEKIQUSaV1WKyISVW7CuBy4GniDuyeBOEG11GtV7CzFhynfv9B9pbsvdfel7e3toxASZLI5+gdyukpKRCSi3ITxJmC9u3eZ2aXAZ4HuUXj/DmBe5PVcoHOY8kMi31OtqqRERPYpN2F8D0ia2cnA/wu8DNwwCu9/O/Ch8GqpM4Bud98K3AWcZ2ZtYWP3eWHZIZEMOx5UlZSIyD7lHhEz7u5mdiHwTXf/YTmXuprZjcA5wHQz6yC48ikO4O7XA3cQtItsBJKE1VzuvtvM/gl4NNzUte4+XOP5qBrs2lwJQ0RkULlHxB4zuwb4IHCWmcUID/zDcfdLRpjvwMdLzFsFrCozvlHVm8oPnqQqKRGRvHKrpN4HpAjux3iV4Iqlr1YsqjGWHBzPW2cYIiJ5ZSWMMEn8FGg1swuAfncfjTaMcalX43mLiOyn3K5BLgL+BPwVcBHwRzN7byUDG0vJ8CopJQwRkX3KPSJ+huAejO0AZtYO/Ba4pVKBjaV9ZxhqwxARySu3DaMqnyxCuw5g3QknoTYMEZH9lHtE/G8zuwu4MXz9PoJLYg9LiXQWM6iP6wxDRCSvrITh7p82s/cAZxJ027HS3W+raGRjKJHK0BCPUVWl8bxFRPLKrnNx91uBWysYy7iRTGfU4C0iUmDYo6KZ9VC80z8juO+upSJRjbHelMbCEBEpNOxR0d2bD1Ug40kilaFBV0iJiAxx2F7p9FokUhldISUiUkAJo4iE2jBERPajhFFEIpVVwhARKaCEUUQilVFPtSIiBZQwikikMjSoDUNEZAgljAK5nJMcUJWUiEihiiYMM1tmZuvNbKOZXV1k/tfNbG34eN7MuiLzspF5t1cyzqi+gSzuGjxJRKRQxX5Gh6PyfQd4K9ABPGpmt7v7M/ll3P3vI8tfCZwS2USfuy+pVHylDA7PqiopEZEhKnmGcTqw0d03uXsauAm4cJjlL2Ff54ZjJpHOD8+qhCEiElXJhDEH2Bx53RGW7cfMjgQWAvdGiuvMbLWZPWJm76pcmEPtO8NQlZSISFQlf0YX6+q1WL9UABcDt7h7NlI23907zewo4F4ze8rdX9jvTcxWACsA5s+f/1pjHkwYOsMQERmqkmcYHcC8yOu5QGeJZS+moDrK3TvD503A/Qxt34gut9Ldl7r70vb29tcaM4m0xvMWESmmkgnjUWCRmS00sxqCpLDf1U5mdhzQBjwcKWszs9pwejrBOBzPFK5bCb2p/HjeqpISEYljgLq9AAATrElEQVSq2M9od8+Y2RXAXUAMWOXuT5vZtcBqd88nj0uAm9w9Wl31OuD7ZpYjSGrXRa+uqqRkSmcYIiLFVPSo6O53UDCUq7t/vuD1F4us9xDw+krGVkqvLqsVESlKd3oXSOSrpHSVlIjIEEoYBZLpDHXxKqpj+mhERKJ0VCzQq8GTRESKUsIokEyr40ERkWKUMAr0pjTanohIMUoYBYLxvNXgLSJSSAmjQEJVUiIiRSlhFEikMrrLW0SkCCWMAkldJSUiUpQSRgE1eouIFKeEEeHuYRuGqqRERAopYUSkMjmyOdcZhohIEUoYEfnBk9SGISKyPyWMiMGOB3WGISKyHyWMiPxoe01qwxAR2Y8SRkRCY2GIiJSkhBGRSKtKSkSklIomDDNbZmbrzWyjmV1dZP6HzWyHma0NHx+NzLvMzDaEj8sqGWfeYKO3qqRERPZTsZ/SZhYDvgO8FegAHjWz24uMzf1zd7+iYN2pwBeApYADj4Xr7qlUvLBveFZdJSUisr9KnmGcDmx0903ungZuAi4sc93zgXvcfXeYJO4BllUozkHJVL7RWwlDRKRQJRPGHGBz5HVHWFboPWb2pJndYmbzDnBdzGyFma02s9U7dux4TQHn2zAaVCUlIrKfSiYMK1LmBa9/DSxw95OA3wI/PoB1g0L3le6+1N2Xtre3H3SwELRhxGNGbbUShohIoUomjA5gXuT1XKAzuoC773L3VPjyB8Bp5a5bCQl1PCgiUlIlE8ajwCIzW2hmNcDFwO3RBcxsVuTlO4Fnw+m7gPPMrM3M2oDzwrKK6k1l1eAtIlJCxY6O7p4xsysIDvQxYJW7P21m1wKr3f124O/M7J1ABtgNfDhcd7eZ/RNB0gG41t13VyrWvGRagyeJiJRS0Z/T7n4HcEdB2ecj09cA15RYdxWwqpLxFepNZXSXt4hICbrTOyKRyuiSWhGREpQwIpIaPElEpCQljIhejectIlKSEkZEcIahhCEiUowSRkRvKqO7vEVESlDCCA1kc6QzOZpUJSUiUpQSRiip4VlFRIalhBHqTWssDBGR4ShhhJKDgyfpDENEpBgljFCvEoaIyLCUMEKJfBuGGr1FRIpSwggl1IYhIjIsJYxQQuN5i4gMSwkjlFAbhojIsJQwQvnxvNVbrYhIcUoYoUQqQ5VBXVwfiYhIMTo6hhLh8KxmNtahiIiMSxWtfzGzZcA3CYZo/Td3v65g/v8BPkowROsO4CPu/nI4Lws8FS76iru/s5KxJtTxoMikNDAwQEdHB/39/WMdSkXV1dUxd+5c4vH4QW+jYgnDzGLAd4C3Ah3Ao2Z2u7s/E1nscWCpuyfN7GPAPwPvC+f1ufuSSsVXqDedUYO3yCTU0dFBc3MzCxYsOGxrGNydXbt20dHRwcKFCw96O5Wskjod2Ojum9w9DdwEXBhdwN3vc/dk+PIRYG4F4xlWUsOzikxK/f39TJs27bBNFgBmxrRp017zWVQlE8YcYHPkdUdYVsrlwJ2R13VmttrMHjGzd5VaycxWhMut3rFjx0EHm0hlaahRlZTIZHQ4J4u80djHSv6kLhadF13Q7FJgKXB2pHi+u3ea2VHAvWb2lLu/sN8G3VcCKwGWLl1adPvlSKQzzGqtO9jVRUQOe5U8w+gA5kVezwU6Cxcys78EPgO8091T+XJ37wyfNwH3A6dUMFYSKbVhiMih19XVxXe/+90DXu9tb3sbXV1dFYiotEomjEeBRWa20MxqgIuB26MLmNkpwPcJksX2SHmbmdWG09OBM4FoY/mo601laVC3ICJyiJVKGNlsdtj17rjjDqZMmVKpsIqq2BHS3TNmdgVwF8Fltavc/WkzuxZY7e63A18FmoBfhPVr+ctnXwd838xyBEntuoKrq0ZdMp2hSZfVikxqX/r10zzTuXdUt7l4dgtfeMcJJedfffXVvPDCCyxZsoR4PE5TUxOzZs1i7dq1PPPMM7zrXe9i8+bN9Pf384lPfIIVK1YAsGDBAlavXk1vby/Lly/nzW9+Mw899BBz5szhV7/6FfX19aO6H1Dh+zDc/Q7gjoKyz0em/7LEeg8Br69kbFG5nJNM6wxDRA696667jnXr1rF27Vruv/9+3v72t7Nu3brBy19XrVrF1KlT6evr4w1veAPvec97mDZt2pBtbNiwgRtvvJEf/OAHXHTRRdx6661ceumlox6rjpDs69pcl9WKTG7DnQkcKqeffvqQeyW+9a1vcdtttwGwefNmNmzYsF/CWLhwIUuWBLetnXbaabz00ksViU1HSCAZdjyoRm8RGWuNjY2D0/fffz+//e1vefjhh2loaOCcc84pei9FbW3t4HQsFqOvr68isakvKaLDs6oNQ0QOrebmZnp6eorO6+7upq2tjYaGBp577jkeeeSRQxzdUPpJDSQ1PKuIjJFp06Zx5plncuKJJ1JfX8/MmTMH5y1btozrr7+ek046ieOOO44zzjhjDCNVwgD2nWGo80ERGQs/+9nPipbX1tZy5513Fp2Xb6eYPn0669atGyy/6qqrRj2+PFVJsW+0PTV6i4iUpoTBvquk1OgtIlKaEgZBx4OgNgwRkeEoYRDc5Q26SkpEZDhKGEQavXWGISJSkhIGQaN3fTxGrOrw7xNfRORgKWEAiXRWDd4iMiYOtntzgG984xskk8mRFxwlShjkx8JQ+4WIHHoTKWHoZzXBVVK6QkpEuPNqePWp0d3mEa+H5deVnB3t3vytb30rM2bM4OabbyaVSvHud7+bL33pSyQSCS666CI6OjrIZrN87nOfY9u2bXR2dnLuuecyffp07rvvvtGNuwgdJQnOMHTTnoiMhWj35nfffTe33HILf/rTn3B33vnOd/Lggw+yY8cOZs+ezW9+8xsg6GOqtbWVr33ta9x3331Mnz79kMSqoyTBjXtTG2vGOgwRGWvDnAkcCnfffTd33303p5wSjEjd29vLhg0bOOuss7jqqqv4h3/4By644ALOOuusMYmvom0YZrbMzNab2UYzu7rI/Foz+3k4/49mtiAy75qwfL2ZnV/JODWet4iMB+7ONddcw9q1a1m7di0bN27k8ssv59hjj+Wxxx7j9a9/Pddccw3XXnvtmMRXsYRhZjHgO8ByYDFwiZktLljscmCPux8DfB34SrjuYoIxwE8AlgHfDbdXEUEbhhq9ReTQi3Zvfv7557Nq1Sp6e3sB2LJlC9u3b6ezs5OGhgYuvfRSrrrqKtasWbPfuodCJX9Wnw5sdPdNAGZ2E3AhEB2b+0Lgi+H0LcC3LRjc+0LgJndPAS+a2cZwew9XIlCdYYjIWIl2b758+XLe//7386Y3vQmApqYmfvKTn7Bx40Y+/elPU1VVRTwe53vf+x4AK1asYPny5cyaNWvCN3rPATZHXncAbyy1jLtnzKwbmBaWP1Kw7pxib2JmK4AVAPPnzz+oQN/yuhmcNLf1oNYVEXmtCrs3/8QnPjHk9dFHH8355+9fM3/llVdy5ZVXVjS2qEomjGK3TXuZy5SzblDovhJYCbB06dKiy4zkGxefcjCriYhMKpVs9O4A5kVezwU6Sy1jZtVAK7C7zHVFROQQqmTCeBRYZGYLzayGoBH79oJlbgcuC6ffC9zr7h6WXxxeRbUQWAT8qYKxisgkFhx2Dm+jsY8Vq5IK2ySuAO4CYsAqd3/azK4FVrv77cAPgf8IG7V3EyQVwuVuJmggzwAfd/dspWIVkcmrrq6OXbt2MW3aNIJrbg4/7s6uXbuoq6t7TduxwymzLl261FevXj3WYYjIBDIwMEBHRwf9/f1jHUpF1dXVMXfuXOLx+JByM3vM3ZeWsw1dSyoik1o8HmfhwoVjHcaEoN5qRUSkLEoYIiJSFiUMEREpy2HV6G1mO4CXD3L16cDOUQznUJvo8YP2YbyY6Psw0eOHQ7sPR7p7ezkLHlYJ47Uws9XlXikwHk30+EH7MF5M9H2Y6PHD+N0HVUmJiEhZlDBERKQsShj7rBzrAF6jiR4/aB/Gi4m+DxM9fhin+6A2DBERKYvOMEREpCxKGCIiUpZJnzDMbJmZrTezjWZ29VjHU8jMXjKzp8xsrZmtDsummtk9ZrYhfG4Ly83MvhXuy5NmdmpkO5eFy28ws8tKvd8oxbzKzLab2bpI2ajFbGanhZ/JxnDdUe1itET8XzSzLeH3sNbM3haZd00Yy3ozOz9SXvRvK+zy/4/hfv087P5/VJnZPDO7z8yeNbOnzewTYfmE+B6GiX/CfA9mVmdmfzKzJ8J9+NJw72vBcA4/D+P8o5ktONh9qxh3n7QPgm7XXwCOAmqAJ4DFYx1XQYwvAdMLyv4ZuDqcvhr4Sjj9NuBOghELzwD+GJZPBTaFz23hdFsFY/5z4FRgXSViJhgb5U3hOncCyw9B/F8Eriqy7OLw76YWWBj+PcWG+9sCbgYuDqevBz5Wge9gFnBqON0MPB/GOiG+h2HinzDfQ/i5NIXTceCP4Wdb9H2BvwWuD6cvBn5+sPtWqcdkP8M4Hdjo7pvcPQ3cBFw4xjGV40Lgx+H0j4F3Rcpv8MAjwBQzmwWcD9zj7rvdfQ9wD7CsUsG5+4ME45uMeszhvBZ3f9iD/6YbItuqZPylXAjc5O4pd38R2Ejwd1X0byv8Ff4XwC3h+tHPYtS4+1Z3XxNO9wDPAnOYIN/DMPGXMu6+h/Cz7A1fxsOHD/O+0e/mFuAtYZwHtG+juQ+FJnvCmANsjrzuYPg/yrHgwN1m9piZrQjLZrr7Vgj+sYAZYXmp/RkP+zlaMc8JpwvLD4UrwuqaVfmqHA48/mlAl7tnCsorJqzaOIXgF+6E+x4K4ocJ9D2YWczM1gLbCZLtC8O872Cs4fzuMM5x83892RNGsTrX8Xad8ZnufiqwHPi4mf35MMuW2p/xvJ8HGvNY7cv3gKOBJcBW4P8Ly8d1/GbWBNwKfNLd9w63aJGyMd+PIvFPqO/B3bPuvgSYS3BG8Lph3ndc7kPUZE8YHcC8yOu5QOcYxVKUu3eGz9uB2wj+6LaFVQKEz9vDxUvtz3jYz9GKuSOcLiyvKHffFv7z54AfEHwPjBBnsfKdBNU91QXlo87M4gQH25+6+y/D4gnzPRSLfyJ+D2HcXcD9BG0Ypd53MNZwfitB1ei4+b+e7AnjUWBReNVCDUFD0+1jHNMgM2s0s+b8NHAesI4gxvzVKpcBvwqnbwc+FF7xcgbQHVY73AWcZ2Zt4Sn8eWHZoTQqMYfzeszsjLB+90ORbVVM/iAbejfB95CP/+LwCpeFwCKCxuCif1thff99wHvD9aOfxWjGa8APgWfd/WuRWRPieygV/0T6Hsys3cymhNP1wF8StMWUet/od/Ne4N4wzgPat9Hch/1UskV9IjwIrg55nqBu8TNjHU9BbEcRXPnwBPB0Pj6Ces3/ATaEz1PDcgO+E+7LU8DSyLY+QtBYthH46wrHfSNBdcEAwa+gy0czZmApwYHiBeDbhD0WVDj+/wjje5Lgn3JWZPnPhLGsJ3KlUKm/rfB7/VO4X78AaivwHbyZoHriSWBt+HjbRPkehol/wnwPwEnA42Gs64DPD/e+QF34emM4/6iD3bdKPdQ1iIiIlGWyV0mJiEiZlDBERKQsShgiIlIWJQwRESmLEoaIiJRFCUMOS2Y2zfb1aPqqDe3htKxeSc3s383suBGW+biZfWCUYr4wjO8JM3vGzD4alv8vMzt+NN5D5LXQZbVy2DOzLwK97v4vBeVG8D+QG5PAhsZSC7xIcP9DZ/j6SHd/3sx+Atzi7v85tlHKZKczDJlUzOwYM1tnZtcDa4BZZrbSzFZbMGbB5yPL/t7MlphZtZl1mdl14a//h81sRrjMl83sk5Hlr7NgDIT1ZvZnYXmjmd0arntj+F5LCkJrJbh5bjeABz2TPm9mZxHcnPX18OxjgZktMrO7LOiQ8kEzOzZ8n5+Y2ffM7Hdm9ryZLQ/LX29mj4brP2lmR1X0Q5bDlhKGTEaLgR+6+ynuvoVgfIilwMnAW81scZF1WoEH3P1k4GGCu5+LMXc/Hfg0kE8+VwKvhuteR9Dz6hAe9BV2F/Cymf3MzC4xsyp3/x1wB/D37r7E3V8CVgJ/6+6nAdcQ3GWdNw84G3gHsDI8U/lb4F886ATvDYyz/tJk4qgeeRGRw84L7v5o5PUlZnY5wf/DbIKE8kzBOn3ufmc4/RhwVolt/zKyzIJw+s3AVwDc/Qkze7rYiu7+YTM7iaDPoauBtwAfjS4T9k10BnCr7RvgLvp/fHNYxbbezDYT9Dv0EPBZMzsS+KW7bywRu8iwlDBkMkrkJ8xsEfAJ4HR37wrbC+qKrJOOTGcp/b+TKrJM2UOXuvuTwJNm9jOCjuo+WrCIATvDs4Wim9h/k/4fZvYw8HbgHjO7zINBokQOiKqkZLJrAXqAvbZvhLnR9nvgIgjaEwjOYIYwsxYbOtbJEuDlcLqHYJhSPBj1bquZvTtcr8rMTo6s91dhj7PHElRPbTCzo9x9o7t/E/gNQad4IgdMCUMmuzUE1U/rCMZX+EMF3uNfgTlm9iTwqfC9uguWMeCasLF8LfBZ9rWT3Aj8Y77Rm6Ab6/9tZvlejC+IbGcj8CDwa2CFB0N3vj9s0F9L0FPqTyqwjzIJ6LJakQqzYDCcanfvD6vA7gYW+b5hOkfrfXT5rVSU2jBEKq8J+J8wcRjwN6OdLEQOBZ1hiIhIWdSGISIiZVHCEBGRsihhiIhIWZQwRESkLEoYIiJSlv8fpNF67N5ykd4AAAAASUVORK5CYII=)\n",
        "\n",
        "## Part 2: Convolution Network (Basic) (35 Points)\n",
        "\n",
        "Tensor dimensions: A good way to debug your network for size mismatches is to print the dimension of output after every layers:\n",
        "\n",
        "(10 Points)\n",
        "\n",
        "_for batch size 8..._\n",
        "\n",
        "Output dimension after 1st conv layer:  **8x16x32x32**\n",
        "\n",
        "Output dimension after 1st max pooling:  **8x16x16x16**\n",
        "\n",
        "Output dimension after 2nd conv layer:  **8x16x16x16**\n",
        "\n",
        "Output dimension after flatten layer: **8x4096**\n",
        "\n",
        "Output dimension after 1st fully connected layer: **8x64**\n",
        "\n",
        "Output dimension after 2nd fully connected layer: **8x10**\n",
        "\n",
        "\n",
        "Test (on validation set) Accuracy (5 Points): **54.5%**\n",
        "\n",
        "Test loss (5 Points): **1.263359**\n",
        "\n",
        "Training time (5 Points): **407.0s** -- This was run on Jupyter on a laptop.\n",
        "\n",
        "\n",
        "Plots:\n",
        "\n",
        "- Plot a graph of accuracy on validation set vs training steps (5 Points)\n",
        "![Part 2 Accuracy](data:image/png;base64,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)\n",
        "- Plot a graph of loss on validation set vs training steps (5 Points)\n",
        "![Part 2 Loss](data:image/png;base64,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)\n",
        "\n",
        "\n",
        "## Part 3: Convolution Network (Add one or more  suggested changes) (35 Points)\n",
        "\n",
        "Describe the additional changes implemented, your intuition for as to why it works, you may also describe other approaches you experimented with (10 Points):\n",
        "\n",
        "Our team split up for this part and took two approaches: \n",
        "\n",
        "### Approach A\n",
        "One of us put together an implementation of VGG, and tried some different modifications in order to improve the accuracy.  We list the change here, but we are submitting the code and results for Approach B only for clarity and brevity.\n",
        "\n",
        "Change #1: train over 10 epochs instead of 5. We figured that using more epochs would give the model more time to learn more and would help it perform better. 5 seemed like a really short window.\n",
        "\n",
        "Change #2: using Adam as optimizer instead of RMSProp. From this article: https://machinelearningmastery.com/adam-optimization-algorithm-for-deep-learning/ \"In practice Adam is currently recommended as the default algorithm to use, and often works slightly better than RMSProp. However, it is often also worth trying SGD+Nesterov Momentum as an alternative.\" It seems to be widely considered that Adam is a more effective optimizer than RMSProp because of how Adam handles bias-correction. We believe this helps Adam to keep learning more effectively over time compared to RMSProp.\n",
        "\n",
        "Change #3: More Convolution Layers & adding in Batch Normalization. We added more convolution layers to increase the number of filters that an image goes through and then added in batch normalization in order to prevent the gradients from shrinking or expanding.\n",
        "\n",
        "Change #4: Adding in dropout layers in the Fully connected layers. This was to prevent overfitting in the fully connected layers.\n",
        "\n",
        "### Approach B\n",
        "The other approach was to find a good implementation of Resnet, and attempt to tune it for the best possible score.\n",
        "\n",
        "1) We tried several different implementations found on various githubs and also Pytorch's provided _untrained_ model, we got to about 70%.  This was using the same optimizer and loss function from the CNN in part 2.  Sources included:\n",
        "https://github.com/bryanyzhu/two-stream-pytorch/blob/master/models/rgb_resnet.pyOn\n",
        "https://towardsdatascience.com/resnets-for-cifar-10-e63e900524e0\n",
        "https://github.com/KellerJordan/ResNet-PyTorch-CIFAR10 (we ultimately settled on this one)\n",
        "\n",
        "2) We tried substituting Adam as the optimizer.  It seemed newer and had positive things said about it online.\n",
        "\n",
        "3) We found that lowering the learning rate gave us incrementally better accuracy.  Trying different depths of resnet also gave us slightly different results.  Nothing really big, though, which was concerning, because we were at 72%, and all the writing we found on resnet talked about 90% +.  We were missing something, and had a ways to go.  Models would eventually diverge, and severely overfit (i.e. 95+% training accuracy, 70% test accuracy)\n",
        "\n",
        "4) We found some tips that pointed us to using SGD + momentum as an optimizer.  Around this point, we also found the original paper, and started to consider everything else the authors had set up differently, including batch size, number of epochs, and variable learning rate, plus random horizontal flip and random crop transforms on the loader.  This made up the gap, and got us to 92.5% test accuracy.\n",
        "Tips source: https://towardsdatascience.com/a-bunch-of-tips-and-tricks-for-training-deep-neural-networks-3ca24c31ddc8 (see #13 for comment about SGD+momentum)\n",
        "Keller Jordan's repo also referred to the original paper: https://arxiv.org/pdf/1512.03385.pdf\n",
        "\n",
        "###Findings\n",
        "It was interesting to us that _increasing_ the learning rate was important.  Intuitively, we figured that running many more epochs on a lower learning rate would take us just as far.  This was not the case.  Our theory for this is that the lower learning rate left the optimizer stuck in local minima.  Running for 50 epochs at lr=0.1 with this configuration could actually take us nearly to 90% accuracy, probably bouncing around past many local minima throughout the model, and settling close to a better minimum loss.  Then, switching to lr=0.01 and 0.001 for a few epochs quickly took us to 92.5.  The learning rates we were using earlier, i.e. lr=.0001 and less, _appeared_ to work, but would not take us past 75%.  After running hundreds of epochs, it was surprising to see this model do so well after 55 epochs of training using the right optimizer, params, and transforms.\n",
        "\n",
        "\n",
        "\n",
        "Test (on validation set) Accuracy (5 Points): **92.1**\n",
        "\n",
        "Test loss (5 Points):  **0.268258**\n",
        "\n",
        "Training time (5 Points): **2657.2** (about 44 minutes)\n",
        "\n",
        "\n",
        "Plots:\n",
        "\n",
        "- Plot a graph of accuracy on validation set vs training steps (5 Points)\n",
        "\n",
        "![part 3 accuracy](data:image/png;base64,iVBORw0KGgoAAAANSUhEUgAAAYUAAAEWCAYAAACJ0YulAAAABHNCSVQICAgIfAhkiAAAAAlwSFlz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%0Am5hBYiBdAAAAAElFTkSuQmCC)\n",
        "- Plot a graph of loss on validation set vs training steps (5 Points)\n",
        "![Part 3 Loss](data:image/png;base64,iVBORw0KGgoAAAANSUhEUgAAAXwAAAEWCAYAAABliCz2AAAABHNCSVQICAgIfAhkiAAAAAlwSFlz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%0AxcTDd59y3gAAAABJRU5ErkJggg==)\n",
        "\n",
        "10 bonus points will be awarded to top 3 scorers on leaderboard (in case of tie for 3rd position everyone tied for 3rd position will get the bonus)"
      ]
    },
    {
      "metadata": {
        "id": "SyeA1bwNo0at",
        "colab_type": "code",
        "colab": {}
      },
      "cell_type": "code",
      "source": [
        ""
      ],
      "execution_count": 0,
      "outputs": []
    }
  ]
}